{
 "cells": [
  {
   "cell_type": "code",
   "execution_count": 0,
   "metadata": {
    "application/vnd.databricks.v1+cell": {
     "cellMetadata": {
      "byteLimit": 2048000,
      "rowLimit": 10000
     },
     "inputWidgets": {},
     "nuid": "7d727191-1b7e-41a4-a49d-33c87f41bd70",
     "showTitle": false,
     "tableResultSettingsMap": {},
     "title": ""
    }
   },
   "outputs": [
    {
     "output_type": "stream",
     "name": "stdout",
     "output_type": "stream",
     "text": [
      "Collecting pytest\n  Obtaining dependency information for pytest from https://files.pythonhosted.org/packages/30/3d/64ad57c803f1fa1e963a7946b6e0fea4a70df53c1a7fed304586539c2bac/pytest-8.3.5-py3-none-any.whl.metadata\n  Downloading pytest-8.3.5-py3-none-any.whl.metadata (7.6 kB)\nCollecting iniconfig (from pytest)\n  Obtaining dependency information for iniconfig from https://files.pythonhosted.org/packages/2c/e1/e6716421ea10d38022b952c159d5161ca1193197fb744506875fbb87ea7b/iniconfig-2.1.0-py3-none-any.whl.metadata\n  Downloading iniconfig-2.1.0-py3-none-any.whl.metadata (2.7 kB)\nRequirement already satisfied: packaging in /databricks/python3/lib/python3.11/site-packages (from pytest) (23.2)\nCollecting pluggy<2,>=1.5 (from pytest)\n  Obtaining dependency information for pluggy<2,>=1.5 from https://files.pythonhosted.org/packages/54/20/4d324d65cc6d9205fabedc306948156824eb9f0ee1633355a8f7ec5c66bf/pluggy-1.6.0-py3-none-any.whl.metadata\n  Downloading pluggy-1.6.0-py3-none-any.whl.metadata (4.8 kB)\nDownloading pytest-8.3.5-py3-none-any.whl (343 kB)\n\u001B[?25l   \u001B[90m━━━━━━━━━━━━━━━━━━━━━━━━━━━━━━━━━━━━━━━━\u001B[0m \u001B[32m0.0/343.6 kB\u001B[0m \u001B[31m?\u001B[0m eta \u001B[36m-:--:--\u001B[0m\n\u001B[2K   \u001B[91m━━━\u001B[0m\u001B[91m╸\u001B[0m\u001B[90m━━━━━━━━━━━━━━━━━━━━━━━━━━━━━━━━━━━━\u001B[0m \u001B[32m30.7/343.6 kB\u001B[0m \u001B[31m1.2 MB/s\u001B[0m eta \u001B[36m0:00:01\u001B[0m\n\u001B[2K   \u001B[91m━━━━━━━\u001B[0m\u001B[90m╺\u001B[0m\u001B[90m━━━━━━━━━━━━━━━━━━━━━━━━━━━━━━━━\u001B[0m \u001B[32m61.4/343.6 kB\u001B[0m \u001B[31m877.1 kB/s\u001B[0m eta \u001B[36m0:00:01\u001B[0m\n\u001B[2K   \u001B[91m━━━━━━━━━━━━━━\u001B[0m\u001B[90m╺\u001B[0m\u001B[90m━━━━━━━━━━━━━━━━━━━━━━━━━\u001B[0m \u001B[32m122.9/343.6 kB\u001B[0m \u001B[31m1.2 MB/s\u001B[0m eta \u001B[36m0:00:01\u001B[0m\n\u001B[2K   \u001B[91m━━━━━━━━━━━━━━━━━━━━━━━━━━━━━━━━━\u001B[0m\u001B[90m╺\u001B[0m\u001B[90m━━━━━━\u001B[0m \u001B[32m286.7/343.6 kB\u001B[0m \u001B[31m2.1 MB/s\u001B[0m eta \u001B[36m0:00:01\u001B[0m\n\u001B[2K   \u001B[91m━━━━━━━━━━━━━━━━━━━━━━━━━━━━━━━━━━━━━━━\u001B[0m\u001B[90m╺\u001B[0m \u001B[32m337.9/343.6 kB\u001B[0m \u001B[31m2.1 MB/s\u001B[0m eta \u001B[36m0:00:01\u001B[0m\n\u001B[2K   \u001B[90m━━━━━━━━━━━━━━━━━━━━━━━━━━━━━━━━━━━━━━━━\u001B[0m \u001B[32m343.6/343.6 kB\u001B[0m \u001B[31m1.9 MB/s\u001B[0m eta \u001B[36m0:00:00\u001B[0m\n\u001B[?25hDownloading pluggy-1.6.0-py3-none-any.whl (20 kB)\nDownloading iniconfig-2.1.0-py3-none-any.whl (6.0 kB)\nInstalling collected packages: pluggy, iniconfig, pytest\nSuccessfully installed iniconfig-2.1.0 pluggy-1.6.0 pytest-8.3.5\n\u001B[43mNote: you may need to restart the kernel using %restart_python or dbutils.library.restartPython() to use updated packages.\u001B[0m\n"
     ]
    }
   ],
   "source": [
    "%pip install pytest"
   ]
  },
  {
   "cell_type": "code",
   "execution_count": 0,
   "metadata": {
    "application/vnd.databricks.v1+cell": {
     "cellMetadata": {
      "byteLimit": 2048000,
      "rowLimit": 10000
     },
     "inputWidgets": {},
     "nuid": "8b6fc25d-cfd4-4334-a884-3187705fad4a",
     "showTitle": false,
     "tableResultSettingsMap": {},
     "title": ""
    }
   },
   "outputs": [],
   "source": [
    "# my_functions.py (or any notebook containing your logic)\n",
    "def add(a, b):\n",
    "    return a + b"
   ]
  },
  {
   "cell_type": "code",
   "execution_count": 0,
   "metadata": {
    "application/vnd.databricks.v1+cell": {
     "cellMetadata": {
      "byteLimit": 2048000,
      "rowLimit": 10000
     },
     "inputWidgets": {},
     "nuid": "b434083b-1a2d-4f71-8bdb-0a0d530e83cc",
     "showTitle": false,
     "tableResultSettingsMap": {},
     "title": ""
    }
   },
   "outputs": [],
   "source": [
    "# test_my_functions (can be another notebook or within same notebook)\n",
    "def test_add():\n",
    "    assert add(2, 3) == 5\n",
    "    assert add(-1, 1) == 0"
   ]
  },
  {
   "cell_type": "code",
   "execution_count": 0,
   "metadata": {
    "application/vnd.databricks.v1+cell": {
     "cellMetadata": {
      "byteLimit": 2048000,
      "rowLimit": 10000
     },
     "inputWidgets": {},
     "nuid": "065ca740-3abe-4b73-a6c5-cdbae82c62e5",
     "showTitle": false,
     "tableResultSettingsMap": {},
     "title": ""
    }
   },
   "outputs": [],
   "source": [
    "test_add()  # Will raise error if the assertion fails"
   ]
  },
  {
   "cell_type": "code",
   "execution_count": 0,
   "metadata": {
    "application/vnd.databricks.v1+cell": {
     "cellMetadata": {
      "byteLimit": 2048000,
      "rowLimit": 10000
     },
     "inputWidgets": {},
     "nuid": "ae0082d3-f6da-46e9-acce-1ed1da52fa53",
     "showTitle": false,
     "tableResultSettingsMap": {},
     "title": ""
    }
   },
   "outputs": [
    {
     "output_type": "stream",
     "name": "stdout",
     "output_type": "stream",
     "text": [
      "FileStore\nVolume\nVolumes\ndatabricks\ndatabricks-datasets\ndatabricks-results\ndbfs\ndbfs:\nmnt\ntmp\nuser\nvolume\nvolumes\n"
     ]
    }
   ],
   "source": [
    "%sh\n",
    "ls /dbfs"
   ]
  },
  {
   "cell_type": "code",
   "execution_count": 0,
   "metadata": {
    "application/vnd.databricks.v1+cell": {
     "cellMetadata": {
      "byteLimit": 2048000,
      "rowLimit": 10000
     },
     "inputWidgets": {},
     "nuid": "59b69d7d-d505-476e-a488-e6af17f14305",
     "showTitle": false,
     "tableResultSettingsMap": {},
     "title": ""
    }
   },
   "outputs": [],
   "source": [
    "%%sh\n",
    "mkdir -p /dbfs/tmp/pytest_framework/src\n",
    "mkdir -p /dbfs/tmp/pytest_framework/tests"
   ]
  },
  {
   "cell_type": "code",
   "execution_count": 0,
   "metadata": {
    "application/vnd.databricks.v1+cell": {
     "cellMetadata": {
      "byteLimit": 2048000,
      "rowLimit": 10000
     },
     "inputWidgets": {},
     "nuid": "61bb83b9-1ff9-4f46-8774-9aa3d669b630",
     "showTitle": false,
     "tableResultSettingsMap": {},
     "title": ""
    }
   },
   "outputs": [],
   "source": [
    "%%sh\n",
    "# Copy your files from workspace to DBFS\n",
    "cp src/my_module.py /dbfs/tmp/pytest_framework/src/\n",
    "cp tests/test_my_module.py /dbfs/tmp/pytest_framework/tests/"
   ]
  },
  {
   "cell_type": "code",
   "execution_count": 0,
   "metadata": {
    "application/vnd.databricks.v1+cell": {
     "cellMetadata": {
      "byteLimit": 2048000,
      "rowLimit": 10000
     },
     "inputWidgets": {},
     "nuid": "31eb37aa-19f3-42ec-9d19-5bcd7d23694f",
     "showTitle": false,
     "tableResultSettingsMap": {},
     "title": ""
    }
   },
   "outputs": [],
   "source": [
    "%%sh\n",
    "cp tests/* /dbfs/tmp/pytest_framework/tests/"
   ]
  },
  {
   "cell_type": "code",
   "execution_count": 0,
   "metadata": {
    "application/vnd.databricks.v1+cell": {
     "cellMetadata": {
      "byteLimit": 2048000,
      "rowLimit": 10000
     },
     "inputWidgets": {},
     "nuid": "a9ea3a5a-8b08-43d3-b509-55948777ca87",
     "showTitle": false,
     "tableResultSettingsMap": {},
     "title": ""
    }
   },
   "outputs": [
    {
     "output_type": "stream",
     "name": "stdout",
     "output_type": "stream",
     "text": [
      "total 8.5K\ndrwxrwxrwx 2 nobody nogroup 4.0K Jun  2 15:29 __pycache__\n-rwxrwxrwx 1 nobody nogroup 1.3K Jun  2 15:37 test_date.py\n-rwxrwxrwx 1 nobody nogroup 2.3K Jun  2 15:37 test_multiple_date_cases.py\n-rwxrwxrwx 1 nobody nogroup  294 Jun  2 15:37 test_my_module.py\n"
     ]
    }
   ],
   "source": [
    "%%sh\n",
    "ls -lh /dbfs/tmp/pytest_framework/tests/"
   ]
  },
  {
   "cell_type": "code",
   "execution_count": 0,
   "metadata": {
    "application/vnd.databricks.v1+cell": {
     "cellMetadata": {
      "byteLimit": 2048000,
      "rowLimit": 10000
     },
     "inputWidgets": {},
     "nuid": "d895b39c-5eb9-46c0-b30b-ae4541ea84ba",
     "showTitle": false,
     "tableResultSettingsMap": {},
     "title": ""
    }
   },
   "outputs": [
    {
     "output_type": "stream",
     "name": "stdout",
     "output_type": "stream",
     "text": [
      "\u001B[1m============================= test session starts ==============================\u001B[0m\nplatform linux -- Python 3.11.11, pytest-8.3.5, pluggy-1.6.0\nrootdir: /dbfs/tmp/pytest_framework/tests\nplugins: metadata-3.1.1, json-report-1.5.0\ncollected 6 items\n\n../../../../../dbfs/tmp/pytest_framework/tests/test_date.py \u001B[32m.\u001B[0m\u001B[32m            [ 16%]\u001B[0m\n../../../../../dbfs/tmp/pytest_framework/tests/test_multiple_date_cases.py \u001B[32m.\u001B[0m\u001B[32m [ 33%]\n\u001B[0m\u001B[32m.\u001B[0m\u001B[31mF\u001B[0m\u001B[31mF\u001B[0m\u001B[31m                                                                      [ 83%]\u001B[0m\n../../../../../dbfs/tmp/pytest_framework/tests/test_my_module.py \u001B[31mF\u001B[0m\u001B[31m       [100%]\u001B[0m\n\n=================================== FAILURES ===================================\n\u001B[31m\u001B[1m_________________ test_no_past_dates_in_expected_delivery_date _________________\u001B[0m\n\nsample_orders_data =                    OrderDate  ...         ActualDeliveryDate\n0  2024-06-15 18:30:00+00:00  ...  2024-08-10 11:00:00+00...0:00  ...  1993-08-27 12:01:00+00:00\n2                       None  ...                       None\n\n[3 rows x 4 columns]\n\n    \u001B[0m\u001B[94mdef\u001B[39;49;00m \u001B[92mtest_no_past_dates_in_expected_delivery_date\u001B[39;49;00m(sample_orders_data):\u001B[90m\u001B[39;49;00m\n        sample_orders_data[\u001B[33m\"\u001B[39;49;00m\u001B[33mExpectedDeliveryDate\u001B[39;49;00m\u001B[33m\"\u001B[39;49;00m] = pd.to_datetime(sample_orders_data[\u001B[33m\"\u001B[39;49;00m\u001B[33mExpectedDeliveryDate\u001B[39;49;00m\u001B[33m\"\u001B[39;49;00m], errors=\u001B[33m\"\u001B[39;49;00m\u001B[33mcoerce\u001B[39;49;00m\u001B[33m\"\u001B[39;49;00m)\u001B[90m\u001B[39;49;00m\n>       \u001B[94massert\u001B[39;49;00m sample_orders_data[\u001B[33m\"\u001B[39;49;00m\u001B[33mExpectedDeliveryDate\u001B[39;49;00m\u001B[33m\"\u001B[39;49;00m].min() >= pd.Timestamp.now(tz=\u001B[33m'\u001B[39;49;00m\u001B[33mUTC\u001B[39;49;00m\u001B[33m'\u001B[39;49;00m), \u001B[33m\"\u001B[39;49;00m\u001B[33m❌ ExpectedDeliveryDate contains past dates\u001B[39;49;00m\u001B[33m\"\u001B[39;49;00m\u001B[90m\u001B[39;49;00m\n\u001B[1m\u001B[31mE       AssertionError: ❌ ExpectedDeliveryDate contains past dates\u001B[0m\n\u001B[1m\u001B[31mE       assert Timestamp('1993-08-06 22:24:00+0000', tz='UTC') >= Timestamp('2025-06-02 15:40:22.503279+0000', tz='UTC')\u001B[0m\n\u001B[1m\u001B[31mE        +  where Timestamp('1993-08-06 22:24:00+0000', tz='UTC') = min()\u001B[0m\n\u001B[1m\u001B[31mE        +    where min = 0   2024-07-15 19:48:00+00:00\\n1   1993-08-06 22:24:00+00:00\\n2   2024-07-05 12:00:00+00:00\\nName: ExpectedDeliveryDate, dtype: datetime64[ns, UTC].min\u001B[0m\n\u001B[1m\u001B[31mE        +  and   Timestamp('2025-06-02 15:40:22.503279+0000', tz='UTC') = now(tz='UTC')\u001B[0m\n\u001B[1m\u001B[31mE        +    where now = <class 'pandas._libs.tslibs.timestamps.Timestamp'>.now\u001B[0m\n\u001B[1m\u001B[31mE        +      where <class 'pandas._libs.tslibs.timestamps.Timestamp'> = pd.Timestamp\u001B[0m\n\n\u001B[1m\u001B[31m/dbfs/tmp/pytest_framework/tests/test_multiple_date_cases.py\u001B[0m:53: AssertionError\n\u001B[31m\u001B[1m______________________ test_no_null_values_in_order_date _______________________\u001B[0m\n\nsample_orders_data =                   OrderDate  ...         ActualDeliveryDate\n0 2024-06-15 18:30:00+00:00  ...  2024-08-10 11:00:00+00:0...00:00  ...  1993-08-27 12:01:00+00:00\n2                       NaT  ...                       None\n\n[3 rows x 4 columns]\n\n    \u001B[0m\u001B[94mdef\u001B[39;49;00m \u001B[92mtest_no_null_values_in_order_date\u001B[39;49;00m(sample_orders_data):\u001B[90m\u001B[39;49;00m\n        sample_orders_data[\u001B[33m\"\u001B[39;49;00m\u001B[33mOrderDate\u001B[39;49;00m\u001B[33m\"\u001B[39;49;00m] = pd.to_datetime(sample_orders_data[\u001B[33m\"\u001B[39;49;00m\u001B[33mOrderDate\u001B[39;49;00m\u001B[33m\"\u001B[39;49;00m], errors=\u001B[33m\"\u001B[39;49;00m\u001B[33mcoerce\u001B[39;49;00m\u001B[33m\"\u001B[39;49;00m)\u001B[90m\u001B[39;49;00m\n>       \u001B[94massert\u001B[39;49;00m \u001B[95mnot\u001B[39;49;00m sample_orders_data[\u001B[33m\"\u001B[39;49;00m\u001B[33mOrderDate\u001B[39;49;00m\u001B[33m\"\u001B[39;49;00m].isnull().any(), \u001B[33m\"\u001B[39;49;00m\u001B[33m❌ OrderDate contains null values\u001B[39;49;00m\u001B[33m\"\u001B[39;49;00m\u001B[90m\u001B[39;49;00m\n\u001B[1m\u001B[31mE       AssertionError: ❌ OrderDate contains null values\u001B[0m\n\u001B[1m\u001B[31mE       assert not True\u001B[0m\n\u001B[1m\u001B[31mE        +  where True = any()\u001B[0m\n\u001B[1m\u001B[31mE        +    where any = 0    False\\n1    False\\n2     True\\nName: OrderDate, dtype: bool.any\u001B[0m\n\u001B[1m\u001B[31mE        +      where 0    False\\n1    False\\n2     True\\nName: OrderDate, dtype: bool = isnull()\u001B[0m\n\u001B[1m\u001B[31mE        +        where isnull = 0   2024-06-15 18:30:00+00:00\\n1   1993-07-21 01:09:00+00:00\\n2                         NaT\\nName: OrderDate, dtype: datetime64[ns, UTC].isnull\u001B[0m\n\n\u001B[1m\u001B[31m/dbfs/tmp/pytest_framework/tests/test_multiple_date_cases.py\u001B[0m:58: AssertionError\n\u001B[31m\u001B[1m___________________________________ test_add ___________________________________\u001B[0m\n\n    \u001B[0m\u001B[94mdef\u001B[39;49;00m \u001B[92mtest_add\u001B[39;49;00m():\u001B[90m\u001B[39;49;00m\n        \u001B[94massert\u001B[39;49;00m add(\u001B[94m2\u001B[39;49;00m, \u001B[94m3\u001B[39;49;00m) == \u001B[94m5\u001B[39;49;00m\u001B[90m\u001B[39;49;00m\n        \u001B[94massert\u001B[39;49;00m add(-\u001B[94m1\u001B[39;49;00m, \u001B[94m1\u001B[39;49;00m) == \u001B[94m0\u001B[39;49;00m\u001B[90m\u001B[39;49;00m\n    \u001B[90m\u001B[39;49;00m\n        \u001B[90m# error\u001B[39;49;00m\u001B[90m\u001B[39;49;00m\n>       \u001B[94massert\u001B[39;49;00m add(\u001B[33m'\u001B[39;49;00m\u001B[33m2\u001B[39;49;00m\u001B[33m'\u001B[39;49;00m, \u001B[33m'\u001B[39;49;00m\u001B[33m3\u001B[39;49;00m\u001B[33m'\u001B[39;49;00m) == \u001B[94m5\u001B[39;49;00m\u001B[90m\u001B[39;49;00m\n\u001B[1m\u001B[31mE       AssertionError: assert '23' == 5\u001B[0m\n\u001B[1m\u001B[31mE        +  where '23' = add('2', '3')\u001B[0m\n\n\u001B[1m\u001B[31m/dbfs/tmp/pytest_framework/tests/test_my_module.py\u001B[0m:15: AssertionError\n\u001B[36m\u001B[1m=========================== short test summary info ============================\u001B[0m\n\u001B[31mFAILED\u001B[0m ../../../../../dbfs/tmp/pytest_framework/tests/test_multiple_date_cases.py::\u001B[1mtest_no_past_dates_in_expected_delivery_date\u001B[0m - AssertionError: ❌ ExpectedDeliveryDate contains past dates\n\u001B[31mFAILED\u001B[0m ../../../../../dbfs/tmp/pytest_framework/tests/test_multiple_date_cases.py::\u001B[1mtest_no_null_values_in_order_date\u001B[0m - AssertionError: ❌ OrderDate contains null values\n\u001B[31mFAILED\u001B[0m ../../../../../dbfs/tmp/pytest_framework/tests/test_my_module.py::\u001B[1mtest_add\u001B[0m - AssertionError: assert '23' == 5\n\u001B[31m========================= \u001B[31m\u001B[1m3 failed\u001B[0m, \u001B[32m3 passed\u001B[0m\u001B[31m in 1.96s\u001B[0m\u001B[31m ==========================\u001B[0m\n"
     ]
    }
   ],
   "source": [
    "%sh\n",
    "pytest /dbfs/tmp/pytest_framework/tests/"
   ]
  },
  {
   "cell_type": "markdown",
   "metadata": {
    "application/vnd.databricks.v1+cell": {
     "cellMetadata": {},
     "inputWidgets": {},
     "nuid": "2c4a929f-5715-41c9-b862-f00acd2b8955",
     "showTitle": false,
     "tableResultSettingsMap": {},
     "title": ""
    }
   },
   "source": [
    "\n",
    "This is how we have write the pytest"
   ]
  },
  {
   "cell_type": "code",
   "execution_count": 0,
   "metadata": {
    "application/vnd.databricks.v1+cell": {
     "cellMetadata": {
      "byteLimit": 2048000,
      "rowLimit": 10000
     },
     "inputWidgets": {},
     "nuid": "bede6412-50fe-49be-8499-7711ecdb4347",
     "showTitle": false,
     "tableResultSettingsMap": {},
     "title": ""
    }
   },
   "outputs": [
    {
     "output_type": "stream",
     "name": "stdout",
     "output_type": "stream",
     "text": [
      "\u001B[1m============================= test session starts ==============================\u001B[0m\nplatform linux -- Python 3.11.11, pytest-8.3.5, pluggy-1.6.0\nrootdir: /dbfs/tmp/pytest_framework/tests\ncollected 2 items\n\n../../../../../dbfs/tmp/pytest_framework/tests/test_my_module.py \u001B[31mF\u001B[0m\u001B[31m       [ 50%]\u001B[0m\n../../../../../dbfs/tmp/pytest_framework/tests/test_date.py \u001B[32m.\u001B[0m\u001B[31m            [100%]\u001B[0m\n\n=================================== FAILURES ===================================\n\u001B[31m\u001B[1m___________________________________ test_add ___________________________________\u001B[0m\n\n    \u001B[0m\u001B[94mdef\u001B[39;49;00m \u001B[92mtest_add\u001B[39;49;00m():\u001B[90m\u001B[39;49;00m\n        \u001B[94massert\u001B[39;49;00m add(\u001B[94m2\u001B[39;49;00m, \u001B[94m3\u001B[39;49;00m) == \u001B[94m5\u001B[39;49;00m\u001B[90m\u001B[39;49;00m\n        \u001B[94massert\u001B[39;49;00m add(-\u001B[94m1\u001B[39;49;00m, \u001B[94m1\u001B[39;49;00m) == \u001B[94m0\u001B[39;49;00m\u001B[90m\u001B[39;49;00m\n    \u001B[90m\u001B[39;49;00m\n        \u001B[90m# error\u001B[39;49;00m\u001B[90m\u001B[39;49;00m\n>       \u001B[94massert\u001B[39;49;00m add(\u001B[33m'\u001B[39;49;00m\u001B[33m2\u001B[39;49;00m\u001B[33m'\u001B[39;49;00m, \u001B[33m'\u001B[39;49;00m\u001B[33m3\u001B[39;49;00m\u001B[33m'\u001B[39;49;00m) == \u001B[94m5\u001B[39;49;00m\u001B[90m\u001B[39;49;00m\n\u001B[1m\u001B[31mE       AssertionError: assert '23' == 5\u001B[0m\n\u001B[1m\u001B[31mE        +  where '23' = add('2', '3')\u001B[0m\n\n\u001B[1m\u001B[31m/dbfs/tmp/pytest_framework/tests/test_my_module.py\u001B[0m:15: AssertionError\n--------------- generated xml file: /dbfs/tmp/pytest_results.xml ---------------\n\u001B[36m\u001B[1m=========================== short test summary info ============================\u001B[0m\n\u001B[31mFAILED\u001B[0m ../../../../../dbfs/tmp/pytest_framework/tests/test_my_module.py::\u001B[1mtest_add\u001B[0m - AssertionError: assert '23' == 5\n\u001B[31m========================= \u001B[31m\u001B[1m1 failed\u001B[0m, \u001B[32m1 passed\u001B[0m\u001B[31m in 0.88s\u001B[0m\u001B[31m ==========================\u001B[0m\n"
     ]
    },
    {
     "output_type": "execute_result",
     "data": {
      "text/plain": [
       "<ExitCode.TESTS_FAILED: 1>"
      ]
     },
     "execution_count": 8,
     "metadata": {},
     "output_type": "execute_result"
    }
   ],
   "source": [
    "import pytest\n",
    "import os\n",
    "\n",
    "test_dir = \"/dbfs/tmp/pytest_framework/tests/\"\n",
    "test_files = [os.path.join(test_dir, \"test_my_module.py\"), os.path.join(test_dir, \"test_date.py\")]\n",
    "\n",
    "# print(test_files)\n",
    "\n",
    "# Run pytest and generate a report\n",
    "pytest.main([\"--junitxml=/dbfs/tmp/pytest_results.xml\"] + test_files)"
   ]
  },
  {
   "cell_type": "code",
   "execution_count": 0,
   "metadata": {
    "application/vnd.databricks.v1+cell": {
     "cellMetadata": {
      "byteLimit": 2048000,
      "rowLimit": 10000
     },
     "inputWidgets": {},
     "nuid": "9861c116-5913-4f31-8bb1-e572d2fa1317",
     "showTitle": false,
     "tableResultSettingsMap": {},
     "title": ""
    }
   },
   "outputs": [
    {
     "output_type": "stream",
     "name": "stdout",
     "output_type": "stream",
     "text": [
      "<?xml version=\"1.0\" encoding=\"utf-8\"?><testsuites><testsuite name=\"pytest\" errors=\"0\" failures=\"1\" skipped=\"0\" tests=\"2\" time=\"0.500\" timestamp=\"2025-06-02T15:19:44.560631+00:00\" hostname=\"0517-130233-c4bsjaf6-10-139-64-4\"><testcase classname=\"test_my_module\" name=\"test_add\" time=\"0.001\"><failure message=\"AssertionError: assert '23' == 5&#10; +  where '23' = add('2', '3')\">#x1B[0m#x1B[94mdef#x1B[39;49;00m #x1B[92mtest_add#x1B[39;49;00m():#x1B[90m#x1B[39;49;00m\n        #x1B[94massert#x1B[39;49;00m add(#x1B[94m2#x1B[39;49;00m, #x1B[94m3#x1B[39;49;00m) == #x1B[94m5#x1B[39;49;00m#x1B[90m#x1B[39;49;00m\n        #x1B[94massert#x1B[39;49;00m add(-#x1B[94m1#x1B[39;49;00m, #x1B[94m1#x1B[39;49;00m) == #x1B[94m0#x1B[39;49;00m#x1B[90m#x1B[39;49;00m\n    #x1B[90m#x1B[39;49;00m\n        #x1B[90m# error#x1B[39;49;00m#x1B[90m#x1B[39;49;00m\n&gt;       #x1B[94massert#x1B[39;49;00m add(#x1B[33m'#x1B[39;49;00m#x1B[33m2#x1B[39;49;00m#x1B[33m'#x1B[39;49;00m, #x1B[33m'#x1B[39;49;00m#x1B[33m3#x1B[39;49;00m#x1B[33m'#x1B[39;49;00m) == #x1B[94m5#x1B[39;49;00m#x1B[90m#x1B[39;49;00m\n#x1B[1m#x1B[31mE       AssertionError: assert '23' == 5#x1B[0m\n#x1B[1m#x1B[31mE        +  where '23' = add('2', '3')#x1B[0m\n\n#x1B[1m#x1B[31m/dbfs/tmp/pytest_framework/tests/test_my_module.py#x1B[0m:15: AssertionError</failure></testcase><testcase classname=\"test_date\" name=\"test_timestamp_format\" time=\"0.007\" /></testsuite></testsuites>"
     ]
    }
   ],
   "source": [
    "%%sh\n",
    "cat /dbfs/tmp/pytest_results.xml"
   ]
  },
  {
   "cell_type": "code",
   "execution_count": 0,
   "metadata": {
    "application/vnd.databricks.v1+cell": {
     "cellMetadata": {
      "byteLimit": 2048000,
      "rowLimit": 10000
     },
     "inputWidgets": {},
     "nuid": "0e336cf2-908c-4780-acc4-de10869d582c",
     "showTitle": false,
     "tableResultSettingsMap": {},
     "title": ""
    }
   },
   "outputs": [
    {
     "output_type": "stream",
     "name": "stdout",
     "output_type": "stream",
     "text": [
      "Collecting pytest-json-report\n  Obtaining dependency information for pytest-json-report from https://files.pythonhosted.org/packages/81/35/d07400c715bf8a88aa0c1ee9c9eb6050ca7fe5b39981f0eea773feeb0681/pytest_json_report-1.5.0-py3-none-any.whl.metadata\n  Downloading pytest_json_report-1.5.0-py3-none-any.whl.metadata (15 kB)\nRequirement already satisfied: pytest>=3.8.0 in /local_disk0/.ephemeral_nfs/envs/pythonEnv-46b8f6ef-ea0e-4d1b-abe8-7615ab0f8b91/lib/python3.11/site-packages (from pytest-json-report) (8.3.5)\nCollecting pytest-metadata (from pytest-json-report)\n  Obtaining dependency information for pytest-metadata from https://files.pythonhosted.org/packages/3e/43/7e7b2ec865caa92f67b8f0e9231a798d102724ca4c0e1f414316be1c1ef2/pytest_metadata-3.1.1-py3-none-any.whl.metadata\n  Downloading pytest_metadata-3.1.1-py3-none-any.whl.metadata (8.6 kB)\nRequirement already satisfied: iniconfig in /local_disk0/.ephemeral_nfs/envs/pythonEnv-46b8f6ef-ea0e-4d1b-abe8-7615ab0f8b91/lib/python3.11/site-packages (from pytest>=3.8.0->pytest-json-report) (2.1.0)\nRequirement already satisfied: packaging in /databricks/python3/lib/python3.11/site-packages (from pytest>=3.8.0->pytest-json-report) (23.2)\nRequirement already satisfied: pluggy<2,>=1.5 in /local_disk0/.ephemeral_nfs/envs/pythonEnv-46b8f6ef-ea0e-4d1b-abe8-7615ab0f8b91/lib/python3.11/site-packages (from pytest>=3.8.0->pytest-json-report) (1.6.0)\nDownloading pytest_json_report-1.5.0-py3-none-any.whl (13 kB)\nDownloading pytest_metadata-3.1.1-py3-none-any.whl (11 kB)\nInstalling collected packages: pytest-metadata, pytest-json-report\nSuccessfully installed pytest-json-report-1.5.0 pytest-metadata-3.1.1\n\u001B[43mNote: you may need to restart the kernel using %restart_python or dbutils.library.restartPython() to use updated packages.\u001B[0m\n"
     ]
    }
   ],
   "source": [
    "%pip install pytest-json-report"
   ]
  },
  {
   "cell_type": "code",
   "execution_count": 0,
   "metadata": {
    "application/vnd.databricks.v1+cell": {
     "cellMetadata": {
      "byteLimit": 2048000,
      "rowLimit": 10000
     },
     "inputWidgets": {},
     "nuid": "3f239d9b-346c-4c21-bb41-7dcd91f022e7",
     "showTitle": false,
     "tableResultSettingsMap": {},
     "title": ""
    }
   },
   "outputs": [
    {
     "output_type": "stream",
     "name": "stdout",
     "output_type": "stream",
     "text": [
      "\u001B[1m============================= test session starts ==============================\u001B[0m\nplatform linux -- Python 3.11.11, pytest-8.3.5, pluggy-1.6.0\nrootdir: /dbfs/tmp/pytest_framework/tests\nplugins: metadata-3.1.1, json-report-1.5.0\ncollected 2 items\n\n../../../../../dbfs/tmp/pytest_framework/tests/test_my_module.py \u001B[31mF\u001B[0m\u001B[31m       [ 50%]\u001B[0m\n../../../../../dbfs/tmp/pytest_framework/tests/test_date.py \u001B[32m.\u001B[0m\u001B[31m            [100%]\u001B[0m\n\n=================================== FAILURES ===================================\n\u001B[31m\u001B[1m___________________________________ test_add ___________________________________\u001B[0m\n\n    \u001B[0m\u001B[94mdef\u001B[39;49;00m \u001B[92mtest_add\u001B[39;49;00m():\u001B[90m\u001B[39;49;00m\n        \u001B[94massert\u001B[39;49;00m add(\u001B[94m2\u001B[39;49;00m, \u001B[94m3\u001B[39;49;00m) == \u001B[94m5\u001B[39;49;00m\u001B[90m\u001B[39;49;00m\n        \u001B[94massert\u001B[39;49;00m add(-\u001B[94m1\u001B[39;49;00m, \u001B[94m1\u001B[39;49;00m) == \u001B[94m0\u001B[39;49;00m\u001B[90m\u001B[39;49;00m\n    \u001B[90m\u001B[39;49;00m\n        \u001B[90m# error\u001B[39;49;00m\u001B[90m\u001B[39;49;00m\n>       \u001B[94massert\u001B[39;49;00m add(\u001B[33m'\u001B[39;49;00m\u001B[33m2\u001B[39;49;00m\u001B[33m'\u001B[39;49;00m, \u001B[33m'\u001B[39;49;00m\u001B[33m3\u001B[39;49;00m\u001B[33m'\u001B[39;49;00m) == \u001B[94m5\u001B[39;49;00m\u001B[90m\u001B[39;49;00m\n\u001B[1m\u001B[31mE       AssertionError: assert '23' == 5\u001B[0m\n\u001B[1m\u001B[31mE        +  where '23' = add('2', '3')\u001B[0m\n\n\u001B[1m\u001B[31m/dbfs/tmp/pytest_framework/tests/test_my_module.py\u001B[0m:15: AssertionError\n--------------------------------- JSON report ----------------------------------\nreport saved to: /dbfs/tmp/pytest_results.json\n\u001B[36m\u001B[1m=========================== short test summary info ============================\u001B[0m\n\u001B[31mFAILED\u001B[0m ../../../../../dbfs/tmp/pytest_framework/tests/test_my_module.py::\u001B[1mtest_add\u001B[0m - AssertionError: assert '23' == 5\n\u001B[31m========================= \u001B[31m\u001B[1m1 failed\u001B[0m, \u001B[32m1 passed\u001B[0m\u001B[31m in 0.31s\u001B[0m\u001B[31m ==========================\u001B[0m\n"
     ]
    },
    {
     "output_type": "execute_result",
     "data": {
      "text/plain": [
       "<ExitCode.TESTS_FAILED: 1>"
      ]
     },
     "execution_count": 12,
     "metadata": {},
     "output_type": "execute_result"
    }
   ],
   "source": [
    "import pytest\n",
    "import os\n",
    "\n",
    "test_dir = \"/dbfs/tmp/pytest_framework/tests/\"\n",
    "test_files = [\n",
    "    os.path.join(test_dir, \"test_my_module.py\"),\n",
    "    os.path.join(test_dir, \"test_date.py\")\n",
    "]\n",
    "\n",
    "# Run pytest and generate a JSON report\n",
    "pytest.main([\"--json-report\", \"--json-report-file=/dbfs/tmp/pytest_results.json\"] + test_files)"
   ]
  },
  {
   "cell_type": "code",
   "execution_count": 0,
   "metadata": {
    "application/vnd.databricks.v1+cell": {
     "cellMetadata": {
      "byteLimit": 2048000,
      "rowLimit": 10000
     },
     "inputWidgets": {},
     "nuid": "8cea7e83-44af-4c86-bf78-54c550077800",
     "showTitle": false,
     "tableResultSettingsMap": {},
     "title": ""
    }
   },
   "outputs": [
    {
     "output_type": "stream",
     "name": "stdout",
     "output_type": "stream",
     "text": [
      "{\"created\": 1748877756.2850718, \"duration\": 0.09325408935546875, \"exitcode\": 1, \"root\": \"/dbfs/tmp/pytest_framework/tests\", \"environment\": {}, \"summary\": {\"failed\": 1, \"passed\": 1, \"total\": 2, \"collected\": 2}, \"collectors\": [{\"nodeid\": \"\", \"outcome\": \"passed\", \"result\": [{\"nodeid\": \"test_my_module.py\", \"type\": \"Module\"}, {\"nodeid\": \"test_date.py\", \"type\": \"Module\"}]}, {\"nodeid\": \"test_my_module.py\", \"outcome\": \"passed\", \"result\": [{\"nodeid\": \"test_my_module.py::test_add\", \"type\": \"Function\", \"lineno\": 9}]}, {\"nodeid\": \"test_date.py\", \"outcome\": \"passed\", \"result\": [{\"nodeid\": \"test_date.py::test_timestamp_format\", \"type\": \"Function\", \"lineno\": 44}]}], \"tests\": [{\"nodeid\": \"test_my_module.py::test_add\", \"lineno\": 9, \"outcome\": \"failed\", \"keywords\": [\"test_add\", \"test_my_module.py\", \"tests\", \"\"], \"setup\": {\"duration\": 0.0004918160002489458, \"outcome\": \"passed\"}, \"call\": {\"duration\": 0.0004902169998786121, \"outcome\": \"failed\", \"crash\": {\"path\": \"/dbfs/tmp/pytest_framework/tests/test_my_module.py\", \"lineno\": 15, \"message\": \"AssertionError: assert '23' == 5\\n +  where '23' = add('2', '3')\"}, \"traceback\": [{\"path\": \"/dbfs/tmp/pytest_framework/tests/test_my_module.py\", \"lineno\": 15, \"message\": \"AssertionError\"}], \"longrepr\": \"def test_add():\\n        assert add(2, 3) == 5\\n        assert add(-1, 1) == 0\\n    \\n        # error\\n>       assert add('2', '3') == 5\\nE       AssertionError: assert '23' == 5\\nE        +  where '23' = add('2', '3')\\n\\n/dbfs/tmp/pytest_framework/tests/test_my_module.py:15: AssertionError\"}, \"teardown\": {\"duration\": 0.0002595089999886113, \"outcome\": \"passed\"}}, {\"nodeid\": \"test_date.py::test_timestamp_format\", \"lineno\": 44, \"outcome\": \"passed\", \"keywords\": [\"test_timestamp_format\", \"test_date.py\", \"tests\", \"\"], \"setup\": {\"duration\": 0.0028041969999321736, \"outcome\": \"passed\"}, \"call\": {\"duration\": 0.004894768000212935, \"outcome\": \"passed\"}, \"teardown\": {\"duration\": 0.00043611500041151885, \"outcome\": \"passed\"}}]}"
     ]
    }
   ],
   "source": [
    "%sh\n",
    "cat /dbfs/tmp/pytest_results.json"
   ]
  },
  {
   "cell_type": "code",
   "execution_count": 0,
   "metadata": {
    "application/vnd.databricks.v1+cell": {
     "cellMetadata": {},
     "inputWidgets": {},
     "nuid": "e2147458-dacb-4767-972b-6a8ac23c2a7b",
     "showTitle": false,
     "tableResultSettingsMap": {},
     "title": ""
    }
   },
   "outputs": [],
   "source": []
  },
  {
   "cell_type": "code",
   "execution_count": 0,
   "metadata": {
    "application/vnd.databricks.v1+cell": {
     "cellMetadata": {
      "byteLimit": 2048000,
      "rowLimit": 10000
     },
     "inputWidgets": {},
     "nuid": "4be46416-17ef-4e2d-bf0b-b5459d782de4",
     "showTitle": false,
     "tableResultSettingsMap": {},
     "title": ""
    }
   },
   "outputs": [],
   "source": [
    "import pytest\n",
    "import pandas as pd\n",
    "\n",
    "# Sample function to test\n",
    "def add(a, b):\n",
    "    return a + b\n",
    "\n",
    "# Sample test\n",
    "def test_add():\n",
    "    assert add(2, 3) == 5\n",
    "    assert add(-1, 1) == 0\n",
    "\n",
    "# Run test manually using pytest\n",
    "test_add()"
   ]
  },
  {
   "cell_type": "code",
   "execution_count": 0,
   "metadata": {
    "application/vnd.databricks.v1+cell": {
     "cellMetadata": {
      "byteLimit": 2048000,
      "rowLimit": 10000
     },
     "inputWidgets": {},
     "nuid": "490567d9-de9b-4467-a7ec-86746be8db19",
     "showTitle": false,
     "tableResultSettingsMap": {},
     "title": ""
    }
   },
   "outputs": [],
   "source": [
    "%%sh\n",
    "cp tests/test_phone_no_format.py /dbfs/tmp/pytest_framework/tests/"
   ]
  },
  {
   "cell_type": "code",
   "execution_count": 0,
   "metadata": {
    "application/vnd.databricks.v1+cell": {
     "cellMetadata": {
      "byteLimit": 2048000,
      "rowLimit": 10000
     },
     "inputWidgets": {},
     "nuid": "9909f511-5f5e-40ed-b7db-e7cfabc7fcec",
     "showTitle": false,
     "tableResultSettingsMap": {},
     "title": ""
    }
   },
   "outputs": [
    {
     "output_type": "stream",
     "name": "stdout",
     "output_type": "stream",
     "text": [
      "total 10K\ndrwxrwxrwx 2 nobody nogroup 4.0K Jun  2 16:05 __pycache__\n-rwxrwxrwx 1 nobody nogroup 1.3K Jun  2 16:03 test_date.py\n-rwxrwxrwx 1 nobody nogroup 2.3K Jun  2 16:03 test_multiple_date_cases.py\n-rwxrwxrwx 1 nobody nogroup  294 Jun  2 16:07 test_my_module.py\n-rwxrwxrwx 1 nobody nogroup 1.1K Jun  2 16:07 test_phone_no_format.py\n"
     ]
    }
   ],
   "source": [
    "%%sh\n",
    "ls -lh /dbfs/tmp/pytest_framework/tests/"
   ]
  },
  {
   "cell_type": "code",
   "execution_count": 0,
   "metadata": {
    "application/vnd.databricks.v1+cell": {
     "cellMetadata": {
      "byteLimit": 2048000,
      "rowLimit": 10000
     },
     "inputWidgets": {},
     "nuid": "566df70d-7e2c-4b2e-96a8-294e903b54d1",
     "showTitle": false,
     "tableResultSettingsMap": {},
     "title": ""
    }
   },
   "outputs": [
    {
     "output_type": "stream",
     "name": "stdout",
     "output_type": "stream",
     "text": [
      "\u001B[1m============================= test session starts ==============================\u001B[0m\nplatform linux -- Python 3.11.11, pytest-8.3.5, pluggy-1.6.0 -- /local_disk0/.ephemeral_nfs/envs/pythonEnv-46b8f6ef-ea0e-4d1b-abe8-7615ab0f8b91/bin/python\ncachedir: .pytest_cache\nmetadata: {'Python': '3.11.11', 'Platform': 'Linux-6.8.0-1028-azure-x86_64-with-glibc2.35', 'Packages': {'pytest': '8.3.5', 'pluggy': '1.6.0'}, 'Plugins': {'metadata': '3.1.1', 'json-report': '1.5.0'}, 'JAVA_HOME': '/usr/lib/jvm/zulu8-ca-amd64/jre/'}\nrootdir: /dbfs/tmp/pytest_framework/tests\nplugins: metadata-3.1.1, json-report-1.5.0\n\u001B[1mcollecting ... \u001B[0mcollected 1 item\n\n../../../../../dbfs/tmp/pytest_framework/tests/test_phone_no_format.py::test_phone_number_format \u001B[31mFAILED\u001B[0m\u001B[31m [100%]\u001B[0m\n\n=================================== FAILURES ===================================\n\u001B[31m\u001B[1m___________________________ test_phone_number_format ___________________________\u001B[0m\n\nsample_phone_data =       phone_number  valid_format\n0  +91 -9876543210          True\n1  +91 -1234567890          True\n2   +91-9876543215         False\n3       9876543210         False\n4  +91- 9876543210         False\n\n    \u001B[0m\u001B[94mdef\u001B[39;49;00m \u001B[92mtest_phone_number_format\u001B[39;49;00m(sample_phone_data):\u001B[90m\u001B[39;49;00m\n    \u001B[90m    \u001B[39;49;00m\u001B[33m\"\"\"\u001B[39;49;00m\n    \u001B[33m    This test ensures that phone numbers follow the correct format:\u001B[39;49;00m\n    \u001B[33m    '+91 -XXXXXXXXXX' where X is a digit.\u001B[39;49;00m\n    \u001B[33m    \"\"\"\u001B[39;49;00m\u001B[90m\u001B[39;49;00m\n        pattern = \u001B[33mr\u001B[39;49;00m\u001B[33m\"\u001B[39;49;00m\u001B[33m^\u001B[39;49;00m\u001B[33m\\\u001B[39;49;00m\u001B[33m+91\u001B[39;49;00m\u001B[33m\\\u001B[39;49;00m\u001B[33ms-\u001B[39;49;00m\u001B[33m\\\u001B[39;49;00m\u001B[33md\u001B[39;49;00m\u001B[33m{10}\u001B[39;49;00m\u001B[33m$\u001B[39;49;00m\u001B[33m\"\u001B[39;49;00m  \u001B[90m# Expected pattern: +91 -XXXXXXXXXX\u001B[39;49;00m\u001B[90m\u001B[39;49;00m\n    \u001B[90m\u001B[39;49;00m\n        \u001B[90m# Apply regex check for each phone number\u001B[39;49;00m\u001B[90m\u001B[39;49;00m\n        sample_phone_data[\u001B[33m\"\u001B[39;49;00m\u001B[33mvalid_format\u001B[39;49;00m\u001B[33m\"\u001B[39;49;00m] = sample_phone_data[\u001B[33m\"\u001B[39;49;00m\u001B[33mphone_number\u001B[39;49;00m\u001B[33m\"\u001B[39;49;00m].apply(\u001B[94mlambda\u001B[39;49;00m x: \u001B[96mbool\u001B[39;49;00m(re.match(pattern, x)))\u001B[90m\u001B[39;49;00m\n    \u001B[90m\u001B[39;49;00m\n        \u001B[90m# Assert that all phone numbers match the expected pattern\u001B[39;49;00m\u001B[90m\u001B[39;49;00m\n>       \u001B[94massert\u001B[39;49;00m sample_phone_data[\u001B[33m\"\u001B[39;49;00m\u001B[33mvalid_format\u001B[39;49;00m\u001B[33m\"\u001B[39;49;00m].all(), \u001B[33m\"\u001B[39;49;00m\u001B[33m❌ Some phone numbers do not match the expected format!\u001B[39;49;00m\u001B[33m\"\u001B[39;49;00m\u001B[90m\u001B[39;49;00m\n\u001B[1m\u001B[31mE       AssertionError: ❌ Some phone numbers do not match the expected format!\u001B[0m\n\u001B[1m\u001B[31mE       assert False\u001B[0m\n\u001B[1m\u001B[31mE        +  where False = all()\u001B[0m\n\u001B[1m\u001B[31mE        +    where all = 0     True\\n1     True\\n2    False\\n3    False\\n4    False\\nName: valid_format, dtype: bool.all\u001B[0m\n\n\u001B[1m\u001B[31m/dbfs/tmp/pytest_framework/tests/test_phone_no_format.py\u001B[0m:33: AssertionError\n\u001B[36m\u001B[1m=========================== short test summary info ============================\u001B[0m\n\u001B[31mFAILED\u001B[0m ../../../../../dbfs/tmp/pytest_framework/tests/test_phone_no_format.py::\u001B[1mtest_phone_number_format\u001B[0m - AssertionError: ❌ Some phone numbers do not match the expected format!\n\u001B[31m============================== \u001B[31m\u001B[1m1 failed\u001B[0m\u001B[31m in 1.03s\u001B[0m\u001B[31m ===============================\u001B[0m\n"
     ]
    }
   ],
   "source": [
    "%sh\n",
    "pytest -v /dbfs/tmp/pytest_framework/tests/test_phone_no_format.py"
   ]
  },
  {
   "cell_type": "markdown",
   "metadata": {
    "application/vnd.databricks.v1+cell": {
     "cellMetadata": {},
     "inputWidgets": {},
     "nuid": "9884a86d-7cb7-45a2-84a0-6c746dbb2f46",
     "showTitle": false,
     "tableResultSettingsMap": {},
     "title": ""
    }
   },
   "source": [
    "\n",
    "### Added Test Data Validation"
   ]
  },
  {
   "cell_type": "code",
   "execution_count": 0,
   "metadata": {
    "application/vnd.databricks.v1+cell": {
     "cellMetadata": {
      "byteLimit": 2048000,
      "rowLimit": 10000
     },
     "inputWidgets": {},
     "nuid": "a79e5ed0-7d16-44cf-98e5-454daace665c",
     "showTitle": false,
     "tableResultSettingsMap": {},
     "title": ""
    }
   },
   "outputs": [
    {
     "output_type": "stream",
     "name": "stdout",
     "output_type": "stream",
     "text": [
      "Collecting pytest\n  Obtaining dependency information for pytest from https://files.pythonhosted.org/packages/2f/de/afa024cbe022b1b318a3d224125aa24939e99b4ff6f22e0ba639a2eaee47/pytest-8.4.0-py3-none-any.whl.metadata\n  Downloading pytest-8.4.0-py3-none-any.whl.metadata (7.7 kB)\nCollecting iniconfig>=1 (from pytest)\n  Obtaining dependency information for iniconfig>=1 from https://files.pythonhosted.org/packages/2c/e1/e6716421ea10d38022b952c159d5161ca1193197fb744506875fbb87ea7b/iniconfig-2.1.0-py3-none-any.whl.metadata\n  Downloading iniconfig-2.1.0-py3-none-any.whl.metadata (2.7 kB)\nRequirement already satisfied: packaging>=20 in /databricks/python3/lib/python3.11/site-packages (from pytest) (23.2)\nCollecting pluggy<2,>=1.5 (from pytest)\n  Obtaining dependency information for pluggy<2,>=1.5 from https://files.pythonhosted.org/packages/54/20/4d324d65cc6d9205fabedc306948156824eb9f0ee1633355a8f7ec5c66bf/pluggy-1.6.0-py3-none-any.whl.metadata\n  Downloading pluggy-1.6.0-py3-none-any.whl.metadata (4.8 kB)\nRequirement already satisfied: pygments>=2.7.2 in /databricks/python3/lib/python3.11/site-packages (from pytest) (2.15.1)\nDownloading pytest-8.4.0-py3-none-any.whl (363 kB)\n\u001B[?25l   \u001B[90m━━━━━━━━━━━━━━━━━━━━━━━━━━━━━━━━━━━━━━━━\u001B[0m \u001B[32m0.0/363.8 kB\u001B[0m \u001B[31m?\u001B[0m eta \u001B[36m-:--:--\u001B[0m\n\u001B[2K   \u001B[91m━━━\u001B[0m\u001B[90m╺\u001B[0m\u001B[90m━━━━━━━━━━━━━━━━━━━━━━━━━━━━━━━━━━━━\u001B[0m \u001B[32m30.7/363.8 kB\u001B[0m \u001B[31m1.5 MB/s\u001B[0m eta \u001B[36m0:00:01\u001B[0m\n\u001B[2K   \u001B[91m━━━━━━\u001B[0m\u001B[91m╸\u001B[0m\u001B[90m━━━━━━━━━━━━━━━━━━━━━━━━━━━━━━━━━\u001B[0m \u001B[32m61.4/363.8 kB\u001B[0m \u001B[31m888.5 kB/s\u001B[0m eta \u001B[36m0:00:01\u001B[0m\n\u001B[2K   \u001B[91m━━━━━━━━━━━━\u001B[0m\u001B[90m╺\u001B[0m\u001B[90m━━━━━━━━━━━━━━━━━━━━━━━━━━━\u001B[0m \u001B[32m112.6/363.8 kB\u001B[0m \u001B[31m1.4 MB/s\u001B[0m eta \u001B[36m0:00:01\u001B[0m\n\u001B[2K   \u001B[91m━━━━━━━━━━━━━━━━━━━━━━━━━━━━\u001B[0m\u001B[90m╺\u001B[0m\u001B[90m━━━━━━━━━━━\u001B[0m \u001B[32m256.0/363.8 kB\u001B[0m \u001B[31m1.9 MB/s\u001B[0m eta \u001B[36m0:00:01\u001B[0m\n\u001B[2K   \u001B[91m━━━━━━━━━━━━━━━━━━━━━━━━━━━━━━━━━━━━━━━\u001B[0m\u001B[90m╺\u001B[0m \u001B[32m358.4/363.8 kB\u001B[0m \u001B[31m2.2 MB/s\u001B[0m eta \u001B[36m0:00:01\u001B[0m\n\u001B[2K   \u001B[90m━━━━━━━━━━━━━━━━━━━━━━━━━━━━━━━━━━━━━━━━\u001B[0m \u001B[32m363.8/363.8 kB\u001B[0m \u001B[31m2.0 MB/s\u001B[0m eta \u001B[36m0:00:00\u001B[0m\n\u001B[?25hDownloading iniconfig-2.1.0-py3-none-any.whl (6.0 kB)\nDownloading pluggy-1.6.0-py3-none-any.whl (20 kB)\nInstalling collected packages: pluggy, iniconfig, pytest\nSuccessfully installed iniconfig-2.1.0 pluggy-1.6.0 pytest-8.4.0\n\u001B[43mNote: you may need to restart the kernel using %restart_python or dbutils.library.restartPython() to use updated packages.\u001B[0m\n"
     ]
    }
   ],
   "source": [
    "%pip install pytest"
   ]
  },
  {
   "cell_type": "code",
   "execution_count": 0,
   "metadata": {
    "application/vnd.databricks.v1+cell": {
     "cellMetadata": {
      "byteLimit": 2048000,
      "rowLimit": 10000
     },
     "inputWidgets": {},
     "nuid": "5fbfd0d0-ac92-4166-ac89-a25a37b75b8c",
     "showTitle": false,
     "tableResultSettingsMap": {},
     "title": ""
    }
   },
   "outputs": [],
   "source": [
    "%%sh\n",
    "cp tests/test_data_validation.py /dbfs/tmp/pytest_framework/tests/"
   ]
  },
  {
   "cell_type": "code",
   "execution_count": 0,
   "metadata": {
    "application/vnd.databricks.v1+cell": {
     "cellMetadata": {
      "byteLimit": 2048000,
      "rowLimit": 10000
     },
     "inputWidgets": {},
     "nuid": "aaea8f6b-d0a2-4496-9255-69d019ab4a25",
     "showTitle": false,
     "tableResultSettingsMap": {},
     "title": ""
    }
   },
   "outputs": [
    {
     "output_type": "stream",
     "name": "stdout",
     "output_type": "stream",
     "text": [
      "\u001B[1m============================= test session starts ==============================\u001B[0m\nplatform linux -- Python 3.11.11, pytest-8.4.0, pluggy-1.6.0\nrootdir: /dbfs/tmp/pytest_framework/tests\ncollected 1 item\n\n../../../../../dbfs/tmp/pytest_framework/tests/test_data_validation.py \u001B[32m.\u001B[0m\u001B[32m [100%]\u001B[0m\n\n\u001B[32m============================== \u001B[32m\u001B[1m1 passed\u001B[0m\u001B[32m in 0.44s\u001B[0m\u001B[32m ===============================\u001B[0m\n"
     ]
    }
   ],
   "source": [
    "%sh\n",
    "pytest /dbfs/tmp/pytest_framework/tests/test_data_validation.py"
   ]
  },
  {
   "cell_type": "code",
   "execution_count": 0,
   "metadata": {
    "application/vnd.databricks.v1+cell": {
     "cellMetadata": {
      "byteLimit": 2048000,
      "rowLimit": 10000
     },
     "inputWidgets": {},
     "nuid": "3498ea02-41e3-481f-a031-e476cfa99972",
     "showTitle": false,
     "tableResultSettingsMap": {},
     "title": ""
    }
   },
   "outputs": [],
   "source": [
    "%%sh\n",
    "cp tests/test_square_function_mark_parametrization.py /dbfs/tmp/pytest_framework/tests/"
   ]
  },
  {
   "cell_type": "code",
   "execution_count": 0,
   "metadata": {
    "application/vnd.databricks.v1+cell": {
     "cellMetadata": {
      "byteLimit": 2048000,
      "rowLimit": 10000
     },
     "inputWidgets": {},
     "nuid": "ccb963a2-3782-48c0-b2bb-d697e7ddad81",
     "showTitle": false,
     "tableResultSettingsMap": {},
     "title": ""
    }
   },
   "outputs": [
    {
     "output_type": "stream",
     "name": "stdout",
     "output_type": "stream",
     "text": [
      "\u001B[1m============================= test session starts ==============================\u001B[0m\nplatform linux -- Python 3.11.11, pytest-8.4.0, pluggy-1.6.0\nrootdir: /dbfs/tmp/pytest_framework/tests\ncollected 3 items\n\n../../../../../dbfs/tmp/pytest_framework/tests/test_square_function_mark_parametrization.py \u001B[32m.\u001B[0m\u001B[32m [ 33%]\n\u001B[0m\u001B[32m.\u001B[0m\u001B[32m.\u001B[0m\u001B[32m                                                                       [100%]\u001B[0m\n\n\u001B[32m============================== \u001B[32m\u001B[1m3 passed\u001B[0m\u001B[32m in 0.39s\u001B[0m\u001B[32m ===============================\u001B[0m\n"
     ]
    }
   ],
   "source": [
    "%sh\n",
    "pytest /dbfs/tmp/pytest_framework/tests/test_square_function_mark_parametrization.py"
   ]
  },
  {
   "cell_type": "code",
   "execution_count": 0,
   "metadata": {
    "application/vnd.databricks.v1+cell": {
     "cellMetadata": {
      "byteLimit": 2048000,
      "rowLimit": 10000
     },
     "inputWidgets": {},
     "nuid": "e67a8c7e-a1ab-4a08-81f7-3122654d6331",
     "showTitle": false,
     "tableResultSettingsMap": {},
     "title": ""
    }
   },
   "outputs": [],
   "source": [
    "%%sh\n",
    "cp src/data_validation_functions.py /dbfs/tmp/pytest_framework/src/\n",
    "cp tests/test_data_validation_functions.py /dbfs/tmp/pytest_framework/tests/"
   ]
  },
  {
   "cell_type": "code",
   "execution_count": 0,
   "metadata": {
    "application/vnd.databricks.v1+cell": {
     "cellMetadata": {
      "byteLimit": 2048000,
      "rowLimit": 10000
     },
     "inputWidgets": {},
     "nuid": "2bab778a-a282-4b52-9843-99f97fe95d2f",
     "showTitle": false,
     "tableResultSettingsMap": {},
     "title": ""
    }
   },
   "outputs": [
    {
     "output_type": "stream",
     "name": "stdout",
     "output_type": "stream",
     "text": [
      "\u001B[1m============================= test session starts ==============================\u001B[0m\nplatform linux -- Python 3.11.11, pytest-8.4.0, pluggy-1.6.0\nrootdir: /dbfs/tmp/pytest_framework/tests\ncollected 3 items\n\n../../../../../dbfs/tmp/pytest_framework/tests/test_data_validation_functions.py \u001B[31mF\u001B[0m\u001B[31m [ 33%]\n\u001B[0m\u001B[32m.\u001B[0m\u001B[32m.\u001B[0m\u001B[31m                                                                       [100%]\u001B[0m\n\n=================================== FAILURES ===================================\n\u001B[31m\u001B[1m_____________________________ test_validate_email ______________________________\u001B[0m\n\n    \u001B[0m\u001B[94mdef\u001B[39;49;00m \u001B[92mtest_validate_email\u001B[39;49;00m():\u001B[90m\u001B[39;49;00m\n        \u001B[90m# Test valid email\u001B[39;49;00m\u001B[90m\u001B[39;49;00m\n        \u001B[94massert\u001B[39;49;00m validate_email(\u001B[33m\"\u001B[39;49;00m\u001B[33muser@example.com\u001B[39;49;00m\u001B[33m\"\u001B[39;49;00m) == \u001B[94mTrue\u001B[39;49;00m\u001B[90m\u001B[39;49;00m\n    \u001B[90m\u001B[39;49;00m\n        \u001B[90m# Test invalid emails\u001B[39;49;00m\u001B[90m\u001B[39;49;00m\n        \u001B[94massert\u001B[39;49;00m validate_email(\u001B[33m\"\u001B[39;49;00m\u001B[33minvalid-email\u001B[39;49;00m\u001B[33m\"\u001B[39;49;00m) == \u001B[94mFalse\u001B[39;49;00m\u001B[90m\u001B[39;49;00m\n        \u001B[94massert\u001B[39;49;00m validate_email(\u001B[33m\"\u001B[39;49;00m\u001B[33muser@\u001B[39;49;00m\u001B[33m\"\u001B[39;49;00m) == \u001B[94mFalse\u001B[39;49;00m\u001B[90m\u001B[39;49;00m\n>       \u001B[94massert\u001B[39;49;00m validate_email(\u001B[33m\"\u001B[39;49;00m\u001B[33m@example.com\u001B[39;49;00m\u001B[33m\"\u001B[39;49;00m) == \u001B[94mFalse\u001B[39;49;00m\u001B[90m\u001B[39;49;00m\n\u001B[1m\u001B[31mE       AssertionError: assert True == False\u001B[0m\n\u001B[1m\u001B[31mE        +  where True = validate_email('@example.com')\u001B[0m\n\n\u001B[1m\u001B[31m/dbfs/tmp/pytest_framework/tests/test_data_validation_functions.py\u001B[0m:17: AssertionError\n--------------- generated xml file: /dbfs/tmp/pytest_results.xml ---------------\n\u001B[36m\u001B[1m=========================== short test summary info ============================\u001B[0m\n\u001B[31mFAILED\u001B[0m ../../../../../dbfs/tmp/pytest_framework/tests/test_data_validation_functions.py::\u001B[1mtest_validate_email\u001B[0m - AssertionError: assert True == False\n\u001B[31m========================= \u001B[31m\u001B[1m1 failed\u001B[0m, \u001B[32m2 passed\u001B[0m\u001B[31m in 1.36s\u001B[0m\u001B[31m ==========================\u001B[0m\n"
     ]
    },
    {
     "output_type": "execute_result",
     "data": {
      "text/plain": [
       "<ExitCode.TESTS_FAILED: 1>"
      ]
     },
     "execution_count": 10,
     "metadata": {},
     "output_type": "execute_result"
    }
   ],
   "source": [
    "# Let's run it via python\n",
    "\n",
    "import pytest\n",
    "import os\n",
    "\n",
    "test_dir = \"/dbfs/tmp/pytest_framework/tests/\"\n",
    "test_files = [\n",
    "    os.path.join(test_dir, \"test_data_validation_functions.py\"),\n",
    "]\n",
    "\n",
    "# Run pytest and generate a JSON report\n",
    "pytest.main([\"--junitxml=/dbfs/tmp/pytest_results.xml\"] + test_files)"
   ]
  },
  {
   "cell_type": "code",
   "execution_count": 0,
   "metadata": {
    "application/vnd.databricks.v1+cell": {
     "cellMetadata": {
      "byteLimit": 2048000,
      "rowLimit": 10000
     },
     "inputWidgets": {},
     "nuid": "10d2c176-002f-4dfe-82cd-779d825d59cb",
     "showTitle": false,
     "tableResultSettingsMap": {},
     "title": ""
    }
   },
   "outputs": [
    {
     "output_type": "execute_result",
     "data": {
      "text/plain": [
       "True"
      ]
     },
     "execution_count": 11,
     "metadata": {},
     "output_type": "execute_result"
    }
   ],
   "source": [
    "def validate_email(email):\n",
    "    \"\"\"Validate email format\"\"\"\n",
    "    return \"@\" in email and \".\" in email\n",
    "\n",
    "validate_email(\"@example.com\")"
   ]
  },
  {
   "cell_type": "code",
   "execution_count": 0,
   "metadata": {
    "application/vnd.databricks.v1+cell": {
     "cellMetadata": {
      "byteLimit": 2048000,
      "rowLimit": 10000
     },
     "inputWidgets": {},
     "nuid": "56234690-3139-4a1f-b6dd-da56462a81ea",
     "showTitle": false,
     "tableResultSettingsMap": {},
     "title": ""
    }
   },
   "outputs": [
    {
     "output_type": "stream",
     "name": "stdout",
     "output_type": "stream",
     "text": [
      "False\nFalse\nFalse\nFalse\nTrue\nFalse\n"
     ]
    }
   ],
   "source": [
    "# Valid domains are com, org, net\n",
    "\n",
    "def validate_email(email):\n",
    "    # email = \"abc@example.com\"\n",
    "    one_check = False # @ is proper or not\n",
    "    second_check = False # domain is proper or not\n",
    "    if len(email.split(\"@\"))==2 and email.split(\"@\")[0] and email.split(\"@\")[1]:\n",
    "        one_check = True\n",
    "\n",
    "    if len(email.split(\".\"))==2 and email.split(\".\")[0] and email.split(\".\")[1]:\n",
    "        domain = email.split(\".\")[1]\n",
    "        if domain in [\"com\", \"org\", \"net\"]:\n",
    "            second_check = True\n",
    "\n",
    "    if one_check and second_check:\n",
    "        return True\n",
    "    else:\n",
    "        return False\n",
    "    \n",
    "print(validate_email(\"@example.com\"))\n",
    "print(validate_email(\"example.com\"))\n",
    "print(validate_email(\"example\"))\n",
    "print(validate_email(\"abc.example.com\"))\n",
    "print(validate_email(\"abc@example.com\")) # Valid\n",
    "print(validate_email(\"abc@example.in\"))"
   ]
  },
  {
   "cell_type": "markdown",
   "metadata": {
    "application/vnd.databricks.v1+cell": {
     "cellMetadata": {
      "byteLimit": 2048000,
      "rowLimit": 10000
     },
     "inputWidgets": {},
     "nuid": "c972c49c-8905-4a03-9f5e-9b7bb853d68b",
     "showTitle": false,
     "tableResultSettingsMap": {},
     "title": ""
    }
   },
   "source": [
    "\n",
    "### Example 2: Testing Data Transformation Functions"
   ]
  },
  {
   "cell_type": "code",
   "execution_count": 0,
   "metadata": {
    "application/vnd.databricks.v1+cell": {
     "cellMetadata": {
      "byteLimit": 2048000,
      "rowLimit": 10000
     },
     "inputWidgets": {},
     "nuid": "a5961337-6820-481a-9b07-092f07cc8481",
     "showTitle": false,
     "tableResultSettingsMap": {},
     "title": ""
    }
   },
   "outputs": [],
   "source": [
    "%%sh\n",
    "cp src/data_transformations.py /dbfs/tmp/pytest_framework/src/\n",
    "cp tests/test_data_transformations.py /dbfs/tmp/pytest_framework/tests/"
   ]
  },
  {
   "cell_type": "code",
   "execution_count": 0,
   "metadata": {
    "application/vnd.databricks.v1+cell": {
     "cellMetadata": {
      "byteLimit": 2048000,
      "rowLimit": 10000
     },
     "inputWidgets": {},
     "nuid": "9fa52318-59d2-4148-bbdd-fe97652d2be8",
     "showTitle": false,
     "tableResultSettingsMap": {},
     "title": ""
    }
   },
   "outputs": [
    {
     "output_type": "stream",
     "name": "stdout",
     "output_type": "stream",
     "text": [
      "total 14K\ndrwxrwxrwx 2 nobody nogroup 4.0K Jun  3 03:48 __pycache__\n-rwxrwxrwx 1 nobody nogroup 1.3K Jun  3 04:23 test_data_transformations.py\n-rwxrwxrwx 1 nobody nogroup  177 Jun  3 03:24 test_data_validation.py\n-rwxrwxrwx 1 nobody nogroup 1.1K Jun  3 03:30 test_data_validation_functions.py\n-rwxrwxrwx 1 nobody nogroup 1.3K Jun  2 16:03 test_date.py\n-rwxrwxrwx 1 nobody nogroup 2.3K Jun  2 16:03 test_multiple_date_cases.py\n-rwxrwxrwx 1 nobody nogroup  294 Jun  2 16:07 test_my_module.py\n-rwxrwxrwx 1 nobody nogroup 1.1K Jun  2 16:07 test_phone_no_format.py\n-rwxrwxrwx 1 nobody nogroup  176 Jun  3 03:25 test_square_function_mark_parametrization.py\n"
     ]
    }
   ],
   "source": [
    "%sh\n",
    "ls -lh /dbfs/tmp/pytest_framework/tests/"
   ]
  },
  {
   "cell_type": "code",
   "execution_count": 0,
   "metadata": {
    "application/vnd.databricks.v1+cell": {
     "cellMetadata": {
      "byteLimit": 2048000,
      "rowLimit": 10000
     },
     "inputWidgets": {},
     "nuid": "be112ddf-e9ff-4639-bf9c-c967a41ada3a",
     "showTitle": false,
     "tableResultSettingsMap": {},
     "title": ""
    }
   },
   "outputs": [
    {
     "output_type": "stream",
     "name": "stdout",
     "output_type": "stream",
     "text": [
      "\u001B[1m============================= test session starts ==============================\u001B[0m\nplatform linux -- Python 3.11.11, pytest-8.4.0, pluggy-1.6.0\nrootdir: /dbfs/tmp/pytest_framework/tests\ncollected 3 items\n\n../../../../../dbfs/tmp/pytest_framework/tests/test_data_transformations.py \u001B[32m.\u001B[0m\u001B[32m [ 33%]\n\u001B[0m\u001B[32m.\u001B[0m\u001B[31mF\u001B[0m\u001B[31m                                                                       [100%]\u001B[0m\n\n=================================== FAILURES ===================================\n\u001B[31m\u001B[1m____________________________ test_convert_currency _____________________________\u001B[0m\n\n    \u001B[0m\u001B[94mdef\u001B[39;49;00m \u001B[92mtest_convert_currency\u001B[39;49;00m():\u001B[90m\u001B[39;49;00m\n        \u001B[90m# Test normal conversion\u001B[39;49;00m\u001B[90m\u001B[39;49;00m\n        \u001B[94massert\u001B[39;49;00m convert_currency(\u001B[94m100\u001B[39;49;00m, \u001B[94m1.5\u001B[39;49;00m) == \u001B[94m150.0\u001B[39;49;00m\u001B[90m\u001B[39;49;00m\n        \u001B[94massert\u001B[39;49;00m convert_currency(\u001B[94m50\u001B[39;49;00m, \u001B[94m0.8\u001B[39;49;00m) == \u001B[94m40.0\u001B[39;49;00m\u001B[90m\u001B[39;49;00m\n    \u001B[90m\u001B[39;49;00m\n        \u001B[90m# Test error handling\u001B[39;49;00m\u001B[90m\u001B[39;49;00m\n        \u001B[90m# try:\u001B[39;49;00m\u001B[90m\u001B[39;49;00m\n>       \u001B[94massert\u001B[39;49;00m convert_currency(\u001B[94m100\u001B[39;49;00m, -\u001B[94m1\u001B[39;49;00m) == -\u001B[94m100.0\u001B[39;49;00m\u001B[90m\u001B[39;49;00m\n               ^^^^^^^^^^^^^^^^^^^^^^^^^\u001B[90m\u001B[39;49;00m\n\n\u001B[1m\u001B[31m/dbfs/tmp/pytest_framework/tests/test_data_transformations.py\u001B[0m:36: \n_ _ _ _ _ _ _ _ _ _ _ _ _ _ _ _ _ _ _ _ _ _ _ _ _ _ _ _ _ _ _ _ _ _ _ _ _ _ _ _ \n\namount = 100, rate = -1\n\n    \u001B[0m\u001B[94mdef\u001B[39;49;00m \u001B[92mconvert_currency\u001B[39;49;00m(amount, rate):\u001B[90m\u001B[39;49;00m\n    \u001B[90m    \u001B[39;49;00m\u001B[33m\"\"\"Convert currency with exchange rate\"\"\"\u001B[39;49;00m\u001B[90m\u001B[39;49;00m\n        \u001B[94mif\u001B[39;49;00m rate <= \u001B[94m0\u001B[39;49;00m:\u001B[90m\u001B[39;49;00m\n>           \u001B[94mraise\u001B[39;49;00m \u001B[96mValueError\u001B[39;49;00m(\u001B[33m\"\u001B[39;49;00m\u001B[33mExchange rate must be positive\u001B[39;49;00m\u001B[33m\"\u001B[39;49;00m)\u001B[90m\u001B[39;49;00m\n\u001B[1m\u001B[31mE           ValueError: Exchange rate must be positive\u001B[0m\n\n\u001B[1m\u001B[31m/dbfs/tmp/pytest_framework/src/data_transformations.py\u001B[0m:17: ValueError\n\u001B[36m\u001B[1m=========================== short test summary info ============================\u001B[0m\n\u001B[31mFAILED\u001B[0m ../../../../../dbfs/tmp/pytest_framework/tests/test_data_transformations.py::\u001B[1mtest_convert_currency\u001B[0m - ValueError: Exchange rate must be positive\n\u001B[31m========================= \u001B[31m\u001B[1m1 failed\u001B[0m, \u001B[32m2 passed\u001B[0m\u001B[31m in 0.82s\u001B[0m\u001B[31m ==========================\u001B[0m\n"
     ]
    }
   ],
   "source": [
    "%sh\n",
    "pytest /dbfs/tmp/pytest_framework/tests/test_data_transformations.py"
   ]
  },
  {
   "cell_type": "code",
   "execution_count": 0,
   "metadata": {
    "application/vnd.databricks.v1+cell": {
     "cellMetadata": {
      "byteLimit": 2048000,
      "rowLimit": 10000
     },
     "inputWidgets": {},
     "nuid": "432a90ed-9f00-4490-91fe-7aed258eb4c2",
     "showTitle": false,
     "tableResultSettingsMap": {},
     "title": ""
    }
   },
   "outputs": [
    {
     "output_type": "stream",
     "name": "stdout",
     "output_type": "stream",
     "text": [
      "\u001B[1m============================= test session starts ==============================\u001B[0m\nplatform linux -- Python 3.11.11, pytest-8.4.0, pluggy-1.6.0\nrootdir: /dbfs/tmp/pytest_framework/tests\ncollected 3 items\n\n../../../../../dbfs/tmp/pytest_framework/tests/test_data_transformations.py \u001B[32m.\u001B[0m\u001B[32m [ 33%]\n\u001B[0m\u001B[32m.\u001B[0m\u001B[32m.\u001B[0m\u001B[32m                                                                       [100%]\u001B[0m\n\n--------------- generated xml file: /dbfs/tmp/pytest_results.xml ---------------\n\u001B[32m============================== \u001B[32m\u001B[1m3 passed\u001B[0m\u001B[32m in 0.21s\u001B[0m\u001B[32m ===============================\u001B[0m\n"
     ]
    },
    {
     "output_type": "execute_result",
     "data": {
      "text/plain": [
       "<ExitCode.OK: 0>"
      ]
     },
     "execution_count": 55,
     "metadata": {},
     "output_type": "execute_result"
    }
   ],
   "source": [
    "# Let's run it via python\n",
    "\n",
    "import pytest\n",
    "import os\n",
    "\n",
    "test_dir = \"/dbfs/tmp/pytest_framework/tests/\"\n",
    "test_files = [\n",
    "    os.path.join(test_dir, \"test_data_transformations.py\"),\n",
    "]\n",
    "\n",
    "# Run pytest and generate a report\n",
    "pytest.main([\"--junitxml=/dbfs/tmp/pytest_results.xml\"] + test_files)"
   ]
  },
  {
   "cell_type": "code",
   "execution_count": 0,
   "metadata": {
    "application/vnd.databricks.v1+cell": {
     "cellMetadata": {
      "byteLimit": 2048000,
      "rowLimit": 10000
     },
     "inputWidgets": {},
     "nuid": "69c8ea06-e9c6-4d57-866d-e53e0950bd3c",
     "showTitle": false,
     "tableResultSettingsMap": {},
     "title": ""
    }
   },
   "outputs": [
    {
     "output_type": "stream",
     "name": "stdout",
     "output_type": "stream",
     "text": [
      "<?xml version=\"1.0\" encoding=\"utf-8\"?><testsuites name=\"pytest tests\"><testsuite name=\"pytest\" errors=\"0\" failures=\"0\" skipped=\"0\" tests=\"3\" time=\"0.068\" timestamp=\"2025-06-03T04:25:44.953112+00:00\" hostname=\"0517-130233-c4bsjaf6-10-139-64-4\"><testcase classname=\"test_data_transformations\" name=\"test_standardize_name\" time=\"0.001\" /><testcase classname=\"test_data_transformations\" name=\"test_calculate_total_sales\" time=\"0.001\" /><testcase classname=\"test_data_transformations\" name=\"test_convert_currency\" time=\"0.001\" /></testsuite></testsuites>"
     ]
    }
   ],
   "source": [
    "%sh\n",
    "cat /dbfs/tmp/pytest_results.xml"
   ]
  },
  {
   "cell_type": "code",
   "execution_count": 0,
   "metadata": {
    "application/vnd.databricks.v1+cell": {
     "cellMetadata": {
      "byteLimit": 2048000,
      "rowLimit": 10000
     },
     "inputWidgets": {},
     "nuid": "a5554067-8d1b-44ab-a3f4-d64822202dc3",
     "showTitle": false,
     "tableResultSettingsMap": {},
     "title": ""
    }
   },
   "outputs": [],
   "source": [
    "%%sh\n",
    "cp src/data_quality.py /dbfs/tmp/pytest_framework/src/\n",
    "cp tests/test_data_quality.py /dbfs/tmp/pytest_framework/tests/"
   ]
  },
  {
   "cell_type": "code",
   "execution_count": 0,
   "metadata": {
    "application/vnd.databricks.v1+cell": {
     "cellMetadata": {
      "byteLimit": 2048000,
      "rowLimit": 10000
     },
     "inputWidgets": {},
     "nuid": "3d665008-b9d4-43c9-bdab-06f753f7a43c",
     "showTitle": false,
     "tableResultSettingsMap": {},
     "title": ""
    }
   },
   "outputs": [
    {
     "output_type": "stream",
     "name": "stdout",
     "output_type": "stream",
     "text": [
      "\u001B[1m============================= test session starts ==============================\u001B[0m\nplatform linux -- Python 3.11.11, pytest-8.4.0, pluggy-1.6.0\nrootdir: /dbfs/tmp/pytest_framework/tests\ncollected 3 items\n\n../../../../../dbfs/tmp/pytest_framework/tests/test_data_quality.py \u001B[32m.\u001B[0m\u001B[32m.\u001B[0m\u001B[31mF\u001B[0m\u001B[31m  [100%]\u001B[0m\n\n=================================== FAILURES ===================================\n\u001B[31m\u001B[1m_____________________________ test_intention_fail ______________________________\u001B[0m\n\n>   \u001B[0m\u001B[04m\u001B[91m?\u001B[39;49;00m\u001B[04m\u001B[91m?\u001B[39;49;00m\u001B[04m\u001B[91m?\u001B[39;49;00m\u001B[90m\u001B[39;49;00m\n\u001B[1m\u001B[31mE   assert True == False\u001B[0m\n\n\u001B[1m\u001B[31m/dbfs/tmp/pytest_framework/tests/test_data_quality.py\u001B[0m:39: AssertionError\n--------------- generated xml file: /dbfs/tmp/pytest_results.xml ---------------\n\u001B[36m\u001B[1m=========================== short test summary info ============================\u001B[0m\n\u001B[31mFAILED\u001B[0m ../../../../../dbfs/tmp/pytest_framework/tests/test_data_quality.py::\u001B[1mtest_intention_fail\u001B[0m - assert True == False\n\u001B[31m========================= \u001B[31m\u001B[1m1 failed\u001B[0m, \u001B[32m2 passed\u001B[0m\u001B[31m in 0.19s\u001B[0m\u001B[31m ==========================\u001B[0m\n"
     ]
    },
    {
     "output_type": "execute_result",
     "data": {
      "text/plain": [
       "<ExitCode.TESTS_FAILED: 1>"
      ]
     },
     "execution_count": 63,
     "metadata": {},
     "output_type": "execute_result"
    }
   ],
   "source": [
    "# Let's run it via python\n",
    "\n",
    "import pytest\n",
    "import os\n",
    "\n",
    "test_dir = \"/dbfs/tmp/pytest_framework/tests/\"\n",
    "test_files = [\n",
    "    os.path.join(test_dir, \"test_data_quality.py\"),\n",
    "]\n",
    "\n",
    "# Run pytest and generate a report\n",
    "pytest.main([\"--junitxml=/dbfs/tmp/pytest_results.xml\"] + test_files)"
   ]
  },
  {
   "cell_type": "markdown",
   "metadata": {
    "application/vnd.databricks.v1+cell": {
     "cellMetadata": {},
     "inputWidgets": {},
     "nuid": "4b77aa01-824d-49fc-a367-eb543b92473b",
     "showTitle": false,
     "tableResultSettingsMap": {},
     "title": ""
    }
   },
   "source": [
    "\n",
    "I have done the changes but still the previous code only get's executed and new code is not executing, it is because of caching.\n",
    "\n",
    "When you run:\n",
    "```python\n",
    "pytest.main([...])\n",
    "```\n",
    "\n",
    "Python **imports the test file and any modules it uses**. If you've already run the test once in the current Python session (like a notebook or a persistent shell), then **any changes you make to the test file or source code afterward are not reflected** because:\n",
    "\n",
    "- The file is already loaded into memory.\n",
    "- Python doesn’t automatically re-import the updated file unless you explicitly reload it.\n",
    "\n",
    "\n",
    "### Solution:\n",
    "\n",
    "Option 1: Restart the Python kernel/session (most reliable)\n",
    "\n",
    "Option 2: Force reload using `importlib`\n",
    "\n",
    "Option 3: Run pytest as a shell command (bypasses Python caching)"
   ]
  },
  {
   "cell_type": "markdown",
   "metadata": {
    "application/vnd.databricks.v1+cell": {
     "cellMetadata": {},
     "inputWidgets": {},
     "nuid": "7eb53279-e931-4fa0-865e-4f465b44ed0a",
     "showTitle": false,
     "tableResultSettingsMap": {},
     "title": ""
    }
   },
   "source": [
    "Let's Run pytest as a shell command (bypasses Python caching)"
   ]
  },
  {
   "cell_type": "code",
   "execution_count": 0,
   "metadata": {
    "application/vnd.databricks.v1+cell": {
     "cellMetadata": {
      "byteLimit": 2048000,
      "rowLimit": 10000
     },
     "inputWidgets": {},
     "nuid": "a9bad79f-e713-4b34-b3a5-97cc92e372db",
     "showTitle": false,
     "tableResultSettingsMap": {},
     "title": ""
    }
   },
   "outputs": [
    {
     "output_type": "stream",
     "name": "stdout",
     "output_type": "stream",
     "text": [
      "\u001B[1m============================= test session starts ==============================\u001B[0m\nplatform linux -- Python 3.11.11, pytest-8.4.0, pluggy-1.6.0\nrootdir: /dbfs/tmp/pytest_framework/tests\ncollected 2 items\n\n../../../../../dbfs/tmp/pytest_framework/tests/test_data_quality.py \u001B[32m.\u001B[0m\u001B[32m.\u001B[0m\u001B[32m   [100%]\u001B[0m\n\n\u001B[32m============================== \u001B[32m\u001B[1m2 passed\u001B[0m\u001B[32m in 0.58s\u001B[0m\u001B[32m ===============================\u001B[0m\n"
     ]
    }
   ],
   "source": [
    "%sh\n",
    "pytest /dbfs/tmp/pytest_framework/tests/test_data_quality.py"
   ]
  },
  {
   "cell_type": "code",
   "execution_count": 0,
   "metadata": {
    "application/vnd.databricks.v1+cell": {
     "cellMetadata": {
      "byteLimit": 2048000,
      "rowLimit": 10000
     },
     "inputWidgets": {},
     "nuid": "78033eeb-43ec-402e-aaf5-b81dbb1cfb45",
     "showTitle": false,
     "tableResultSettingsMap": {},
     "title": ""
    }
   },
   "outputs": [
    {
     "output_type": "stream",
     "name": "stdout",
     "output_type": "stream",
     "text": [
      "\u001B[1m============================= test session starts ==============================\u001B[0m\nplatform linux -- Python 3.11.11, pytest-8.4.0, pluggy-1.6.0\nrootdir: /dbfs/tmp/pytest_framework/tests\ncollected 1 item\n\n../../../../../dbfs/tmp/pytest_framework/tests/test_data_quality.py \u001B[32m.\u001B[0m\u001B[32m    [100%]\u001B[0m\n\n\u001B[32m============================== \u001B[32m\u001B[1m1 passed\u001B[0m\u001B[32m in 0.26s\u001B[0m\u001B[32m ===============================\u001B[0m\n"
     ]
    }
   ],
   "source": [
    "%%sh\n",
    "pytest /dbfs/tmp/pytest_framework/tests/test_data_quality.py::test_check_data_completeness"
   ]
  },
  {
   "cell_type": "code",
   "execution_count": 0,
   "metadata": {
    "application/vnd.databricks.v1+cell": {
     "cellMetadata": {
      "byteLimit": 2048000,
      "rowLimit": 10000
     },
     "inputWidgets": {},
     "nuid": "9a0024ca-e6b8-4af4-ab63-f65d896b8dec",
     "showTitle": false,
     "tableResultSettingsMap": {},
     "title": ""
    }
   },
   "outputs": [],
   "source": [
    "%%sh\n",
    "\n",
    "cp src/elt_functions.py /dbfs/tmp/pytest_framework/src/\n",
    "cp tests/test_elt_functions.py /dbfs/tmp/pytest_framework/tests/"
   ]
  },
  {
   "cell_type": "code",
   "execution_count": 0,
   "metadata": {
    "application/vnd.databricks.v1+cell": {
     "cellMetadata": {
      "byteLimit": 2048000,
      "rowLimit": 10000
     },
     "inputWidgets": {},
     "nuid": "9d24bac8-00a9-4c66-b1fa-158a0d1efa9d",
     "showTitle": false,
     "tableResultSettingsMap": {},
     "title": ""
    }
   },
   "outputs": [
    {
     "output_type": "stream",
     "name": "stdout",
     "output_type": "stream",
     "text": [
      "\u001B[1m============================= test session starts ==============================\u001B[0m\nplatform linux -- Python 3.11.11, pytest-8.4.0, pluggy-1.6.0\nrootdir: /dbfs/tmp/pytest_framework/tests\ncollected 10 items\n\n../../../../../dbfs/tmp/pytest_framework/tests/test_elt_functions.py \u001B[32m.\u001B[0m\u001B[32m.\u001B[0m\u001B[32m.\u001B[0m\u001B[32m [ 30%]\n\u001B[0m\u001B[32m.\u001B[0m\u001B[32m.\u001B[0m\u001B[32m.\u001B[0m\u001B[32m.\u001B[0m\u001B[32m.\u001B[0m\u001B[32m.\u001B[0m\u001B[31mF\u001B[0m\u001B[31m                                                                  [100%]\u001B[0m\n\n=================================== FAILURES ===================================\n\u001B[31m\u001B[1m__________________________ test_order_categorization ___________________________\u001B[0m\n\nsample_orders = [{'customer_age': 28, 'customer_email': 'john@email.com', 'customer_name': 'John Smith', 'order_date': '2025-06-01', ....stomer_age': 200, 'customer_email': 'alice@test.com', 'customer_name': 'Alice Brown', 'order_date': '2023-01-01', ...}]\n\n    \u001B[0m\u001B[94mdef\u001B[39;49;00m \u001B[92mtest_order_categorization\u001B[39;49;00m(sample_orders):\u001B[90m\u001B[39;49;00m\n    \u001B[90m    \u001B[39;49;00m\u001B[33m\"\"\"Test order category assignment\"\"\"\u001B[39;49;00m\u001B[90m\u001B[39;49;00m\n        orders = sample_orders\u001B[90m\u001B[39;49;00m\n    \u001B[90m\u001B[39;49;00m\n        \u001B[90m# Test high value order\u001B[39;49;00m\u001B[90m\u001B[39;49;00m\n        good_order = orders[\u001B[94m0\u001B[39;49;00m]\u001B[90m\u001B[39;49;00m\n        total = calculate_total(good_order[\u001B[33m\"\u001B[39;49;00m\u001B[33mquantity\u001B[39;49;00m\u001B[33m\"\u001B[39;49;00m], good_order[\u001B[33m\"\u001B[39;49;00m\u001B[33mprice\u001B[39;49;00m\u001B[33m\"\u001B[39;49;00m])\u001B[90m\u001B[39;49;00m\n        category = get_order_category(total)\u001B[90m\u001B[39;49;00m\n        \u001B[94massert\u001B[39;49;00m category == \u001B[33m\"\u001B[39;49;00m\u001B[33mHIGH\u001B[39;49;00m\u001B[33m\"\u001B[39;49;00m  \u001B[90m# Should be over $1000\u001B[39;49;00m\u001B[90m\u001B[39;49;00m\n    \u001B[90m\u001B[39;49;00m\n        \u001B[90m# Test invalid order (negative total)\u001B[39;49;00m\u001B[90m\u001B[39;49;00m\n        bad_order = orders[\u001B[94m2\u001B[39;49;00m]\u001B[90m\u001B[39;49;00m\n        bad_total = calculate_total(bad_order[\u001B[33m\"\u001B[39;49;00m\u001B[33mquantity\u001B[39;49;00m\u001B[33m\"\u001B[39;49;00m], bad_order[\u001B[33m\"\u001B[39;49;00m\u001B[33mprice\u001B[39;49;00m\u001B[33m\"\u001B[39;49;00m])\u001B[90m\u001B[39;49;00m\n        category = get_order_category(bad_total)\u001B[90m\u001B[39;49;00m\n>       \u001B[94massert\u001B[39;49;00m category == \u001B[33m\"\u001B[39;49;00m\u001B[33mINVALID\u001B[39;49;00m\u001B[33m\"\u001B[39;49;00m  \u001B[90m# This test case will fail,\u001B[39;49;00m\u001B[90m\u001B[39;49;00m\n        ^^^^^^^^^^^^^^^^^^^^^^^^^^^^\u001B[90m\u001B[39;49;00m\n\u001B[1m\u001B[31mE       AssertionError: assert 'LOW' == 'INVALID'\u001B[0m\n\u001B[1m\u001B[31mE         \u001B[0m\n\u001B[1m\u001B[31mE         \u001B[0m\u001B[91m- INVALID\u001B[39;49;00m\u001B[90m\u001B[39;49;00m\u001B[0m\n\u001B[1m\u001B[31mE         \u001B[92m+ LOW\u001B[39;49;00m\u001B[90m\u001B[39;49;00m\u001B[0m\n\n\u001B[1m\u001B[31m/dbfs/tmp/pytest_framework/tests/test_elt_functions.py\u001B[0m:241: AssertionError\n\u001B[36m\u001B[1m=========================== short test summary info ============================\u001B[0m\n\u001B[31mFAILED\u001B[0m ../../../../../dbfs/tmp/pytest_framework/tests/test_elt_functions.py::\u001B[1mtest_order_categorization\u001B[0m - AssertionError: assert 'LOW' == 'INVALID'\n\u001B[31m========================= \u001B[31m\u001B[1m1 failed\u001B[0m, \u001B[32m9 passed\u001B[0m\u001B[31m in 1.09s\u001B[0m\u001B[31m ==========================\u001B[0m\n"
     ]
    }
   ],
   "source": [
    "%sh\n",
    "pytest /dbfs/tmp/pytest_framework/tests/test_elt_functions.py"
   ]
  },
  {
   "cell_type": "code",
   "execution_count": 0,
   "metadata": {
    "application/vnd.databricks.v1+cell": {
     "cellMetadata": {},
     "inputWidgets": {},
     "nuid": "8642eb8a-1562-4b8d-9ea6-aa1f3981d4a5",
     "showTitle": false,
     "tableResultSettingsMap": {},
     "title": ""
    }
   },
   "outputs": [],
   "source": []
  }
 ],
 "metadata": {
  "application/vnd.databricks.v1+notebook": {
   "computePreferences": null,
   "dashboards": [],
   "environmentMetadata": {
    "base_environment": "",
    "environment_version": "2"
   },
   "inputWidgetPreferences": null,
   "language": "python",
   "notebookMetadata": {
    "mostRecentlyExecutedCommandWithImplicitDF": {
     "commandId": 5542857973797722,
     "dataframes": [
      "_sqldf"
     ]
    },
    "pythonIndentUnit": 4
   },
   "notebookName": "Pytest_Framework",
   "widgets": {}
  },
  "language_info": {
   "name": "python"
  }
 },
 "nbformat": 4,
 "nbformat_minor": 0
}