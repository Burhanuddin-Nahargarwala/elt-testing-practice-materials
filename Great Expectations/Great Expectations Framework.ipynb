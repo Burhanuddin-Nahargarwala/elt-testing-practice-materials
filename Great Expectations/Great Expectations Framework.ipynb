{
 "cells": [
  {
   "cell_type": "code",
   "execution_count": 0,
   "metadata": {
    "application/vnd.databricks.v1+cell": {
     "cellMetadata": {
      "byteLimit": 2048000,
      "rowLimit": 10000
     },
     "inputWidgets": {},
     "nuid": "9ff8cf43-9c37-449c-87c4-11a55572c0a1",
     "showTitle": false,
     "tableResultSettingsMap": {},
     "title": ""
    }
   },
   "outputs": [
    {
     "output_type": "stream",
     "name": "stdout",
     "output_type": "stream",
     "text": [
      "Collecting great_expectations\n  Obtaining dependency information for great_expectations from https://files.pythonhosted.org/packages/0a/09/0d14dfdada5d9710b26cc1220b5b85b0eaa2ad24938ec4cec6d36412e52c/great_expectations-1.4.6-py3-none-any.whl.metadata\n  Downloading great_expectations-1.4.6-py3-none-any.whl.metadata (8.8 kB)\nCollecting altair<5.0.0,>=4.2.1 (from great_expectations)\n  Obtaining dependency information for altair<5.0.0,>=4.2.1 from https://files.pythonhosted.org/packages/18/62/47452306e84d4d2e67f9c559380aeb230f5e6ca84fafb428dd36b96a99ba/altair-4.2.2-py3-none-any.whl.metadata\n  Downloading altair-4.2.2-py3-none-any.whl.metadata (13 kB)\nRequirement already satisfied: cryptography>=3.2 in /databricks/python3/lib/python3.11/site-packages (from great_expectations) (41.0.3)\nCollecting jinja2>=3 (from great_expectations)\n  Obtaining dependency information for jinja2>=3 from https://files.pythonhosted.org/packages/62/a1/3d680cbfd5f4b8f15abc1d571870c5fc3e594bb582bc3b64ea099db13e56/jinja2-3.1.6-py3-none-any.whl.metadata\n  Downloading jinja2-3.1.6-py3-none-any.whl.metadata (2.9 kB)\nCollecting jsonschema>=2.5.1 (from great_expectations)\n  Obtaining dependency information for jsonschema>=2.5.1 from https://files.pythonhosted.org/packages/a2/3d/023389198f69c722d039351050738d6755376c8fd343e91dc493ea485905/jsonschema-4.24.0-py3-none-any.whl.metadata\n  Downloading jsonschema-4.24.0-py3-none-any.whl.metadata (7.8 kB)\nCollecting marshmallow<4.0.0,>=3.7.1 (from great_expectations)\n  Obtaining dependency information for marshmallow<4.0.0,>=3.7.1 from https://files.pythonhosted.org/packages/34/75/51952c7b2d3873b44a0028b1bd26a25078c18f92f256608e8d1dc61b39fd/marshmallow-3.26.1-py3-none-any.whl.metadata\n  Downloading marshmallow-3.26.1-py3-none-any.whl.metadata (7.3 kB)\nCollecting mistune>=0.8.4 (from great_expectations)\n  Obtaining dependency information for mistune>=0.8.4 from https://files.pythonhosted.org/packages/01/4d/23c4e4f09da849e127e9f123241946c23c1e30f45a88366879e064211815/mistune-3.1.3-py3-none-any.whl.metadata\n  Downloading mistune-3.1.3-py3-none-any.whl.metadata (1.8 kB)\nRequirement already satisfied: packaging in /databricks/python3/lib/python3.11/site-packages (from great_expectations) (23.2)\nCollecting posthog<4,>3 (from great_expectations)\n  Obtaining dependency information for posthog<4,>3 from https://files.pythonhosted.org/packages/54/e2/c158366e621562ef224f132e75c1d1c1fce6b078a19f7d8060451a12d4b9/posthog-3.25.0-py2.py3-none-any.whl.metadata\n  Downloading posthog-3.25.0-py2.py3-none-any.whl.metadata (3.0 kB)\nCollecting pydantic>=1.10.7 (from great_expectations)\n  Obtaining dependency information for pydantic>=1.10.7 from https://files.pythonhosted.org/packages/b5/69/831ed22b38ff9b4b64b66569f0e5b7b97cf3638346eb95a2147fdb49ad5f/pydantic-2.11.5-py3-none-any.whl.metadata\n  Downloading pydantic-2.11.5-py3-none-any.whl.metadata (67 kB)\n\u001B[?25l     \u001B[90m━━━━━━━━━━━━━━━━━━━━━━━━━━━━━━━━━━━━━━━━\u001B[0m \u001B[32m0.0/67.2 kB\u001B[0m \u001B[31m?\u001B[0m eta \u001B[36m-:--:--\u001B[0m\n\u001B[2K     \u001B[90m━━━━━━━━━━━━━━━━━━━━━━━━━━━━━━━━━━━━━━━━\u001B[0m \u001B[32m67.2/67.2 kB\u001B[0m \u001B[31m1.8 MB/s\u001B[0m eta \u001B[36m0:00:00\u001B[0m\n\u001B[?25hRequirement already satisfied: pyparsing>=2.4 in /databricks/python3/lib/python3.11/site-packages (from great_expectations) (3.0.9)\nRequirement already satisfied: python-dateutil>=2.8.1 in /databricks/python3/lib/python3.11/site-packages (from great_expectations) (2.8.2)\nRequirement already satisfied: requests>=2.20 in /databricks/python3/lib/python3.11/site-packages (from great_expectations) (2.31.0)\nCollecting ruamel.yaml>=0.16 (from great_expectations)\n  Obtaining dependency information for ruamel.yaml>=0.16 from https://files.pythonhosted.org/packages/04/9e/91fe10ea09e2383f0d0531cf3da765fa01b3b9918e85df92081813259cf4/ruamel.yaml-0.18.12-py3-none-any.whl.metadata\n  Downloading ruamel.yaml-0.18.12-py3-none-any.whl.metadata (24 kB)\nRequirement already satisfied: scipy>=1.6.0 in /databricks/python3/lib/python3.11/site-packages (from great_expectations) (1.11.1)\nCollecting tqdm>=4.59.0 (from great_expectations)\n  Obtaining dependency information for tqdm>=4.59.0 from https://files.pythonhosted.org/packages/d0/30/dc54f88dd4a2b5dc8a0279bdd7270e735851848b762aeb1c1184ed1f6b14/tqdm-4.67.1-py3-none-any.whl.metadata\n  Downloading tqdm-4.67.1-py3-none-any.whl.metadata (57 kB)\n\u001B[?25l     \u001B[90m━━━━━━━━━━━━━━━━━━━━━━━━━━━━━━━━━━━━━━━━\u001B[0m \u001B[32m0.0/57.7 kB\u001B[0m \u001B[31m?\u001B[0m eta \u001B[36m-:--:--\u001B[0m\n\u001B[2K     \u001B[90m━━━━━━━━━━━━━━━━━━━━━━━━━━━━━━━━━━━━━━━━\u001B[0m \u001B[32m57.7/57.7 kB\u001B[0m \u001B[31m4.4 MB/s\u001B[0m eta \u001B[36m0:00:00\u001B[0m\n\u001B[?25hRequirement already satisfied: typing-extensions>=4.1.0 in /databricks/python3/lib/python3.11/site-packages (from great_expectations) (4.10.0)\nCollecting tzlocal>=1.2 (from great_expectations)\n  Obtaining dependency information for tzlocal>=1.2 from https://files.pythonhosted.org/packages/c2/14/e2a54fabd4f08cd7af1c07030603c3356b74da07f7cc056e600436edfa17/tzlocal-5.3.1-py3-none-any.whl.metadata\n  Downloading tzlocal-5.3.1-py3-none-any.whl.metadata (7.6 kB)\nRequirement already satisfied: numpy>=1.22.4 in /databricks/python3/lib/python3.11/site-packages (from great_expectations) (1.23.5)\nRequirement already satisfied: pandas<2.2,>=1.3.0 in /databricks/python3/lib/python3.11/site-packages (from great_expectations) (1.5.3)\nRequirement already satisfied: entrypoints in /databricks/python3/lib/python3.11/site-packages (from altair<5.0.0,>=4.2.1->great_expectations) (0.4)\nCollecting toolz (from altair<5.0.0,>=4.2.1->great_expectations)\n  Obtaining dependency information for toolz from https://files.pythonhosted.org/packages/03/98/eb27cc78ad3af8e302c9d8ff4977f5026676e130d28dd7578132a457170c/toolz-1.0.0-py3-none-any.whl.metadata\n  Downloading toolz-1.0.0-py3-none-any.whl.metadata (5.1 kB)\nRequirement already satisfied: cffi>=1.12 in /databricks/python3/lib/python3.11/site-packages (from cryptography>=3.2->great_expectations) (1.15.1)\nCollecting MarkupSafe>=2.0 (from jinja2>=3->great_expectations)\n  Obtaining dependency information for MarkupSafe>=2.0 from https://files.pythonhosted.org/packages/f1/a4/aefb044a2cd8d7334c8a47d3fb2c9f328ac48cb349468cc31c20b539305f/MarkupSafe-3.0.2-cp311-cp311-manylinux_2_17_x86_64.manylinux2014_x86_64.whl.metadata\n  Downloading MarkupSafe-3.0.2-cp311-cp311-manylinux_2_17_x86_64.manylinux2014_x86_64.whl.metadata (4.0 kB)\nCollecting attrs>=22.2.0 (from jsonschema>=2.5.1->great_expectations)\n  Obtaining dependency information for attrs>=22.2.0 from https://files.pythonhosted.org/packages/77/06/bb80f5f86020c4551da315d78b3ab75e8228f89f0162f2c3a819e407941a/attrs-25.3.0-py3-none-any.whl.metadata\n  Downloading attrs-25.3.0-py3-none-any.whl.metadata (10 kB)\nCollecting jsonschema-specifications>=2023.03.6 (from jsonschema>=2.5.1->great_expectations)\n  Obtaining dependency information for jsonschema-specifications>=2023.03.6 from https://files.pythonhosted.org/packages/01/0e/b27cdbaccf30b890c40ed1da9fd4a3593a5cf94dae54fb34f8a4b74fcd3f/jsonschema_specifications-2025.4.1-py3-none-any.whl.metadata\n  Downloading jsonschema_specifications-2025.4.1-py3-none-any.whl.metadata (2.9 kB)\nCollecting referencing>=0.28.4 (from jsonschema>=2.5.1->great_expectations)\n  Obtaining dependency information for referencing>=0.28.4 from https://files.pythonhosted.org/packages/c1/b1/3baf80dc6d2b7bc27a95a67752d0208e410351e3feb4eb78de5f77454d8d/referencing-0.36.2-py3-none-any.whl.metadata\n  Downloading referencing-0.36.2-py3-none-any.whl.metadata (2.8 kB)\nCollecting rpds-py>=0.7.1 (from jsonschema>=2.5.1->great_expectations)\n  Obtaining dependency information for rpds-py>=0.7.1 from https://files.pythonhosted.org/packages/dc/6c/44695c1f035077a017dd472b6a3253553780837af2fac9b6ac25f6a5cb4d/rpds_py-0.25.1-cp311-cp311-manylinux_2_17_x86_64.manylinux2014_x86_64.whl.metadata\n  Downloading rpds_py-0.25.1-cp311-cp311-manylinux_2_17_x86_64.manylinux2014_x86_64.whl.metadata (4.1 kB)\nRequirement already satisfied: pytz>=2020.1 in /databricks/python3/lib/python3.11/site-packages (from pandas<2.2,>=1.3.0->great_expectations) (2022.7)\nRequirement already satisfied: six>=1.5 in /usr/lib/python3/dist-packages (from posthog<4,>3->great_expectations) (1.16.0)\nCollecting monotonic>=1.5 (from posthog<4,>3->great_expectations)\n  Obtaining dependency information for monotonic>=1.5 from https://files.pythonhosted.org/packages/9a/67/7e8406a29b6c45be7af7740456f7f37025f0506ae2e05fb9009a53946860/monotonic-1.6-py2.py3-none-any.whl.metadata\n  Downloading monotonic-1.6-py2.py3-none-any.whl.metadata (1.5 kB)\nCollecting backoff>=1.10.0 (from posthog<4,>3->great_expectations)\n  Obtaining dependency information for backoff>=1.10.0 from https://files.pythonhosted.org/packages/df/73/b6e24bd22e6720ca8ee9a85a0c4a2971af8497d8f3193fa05390cbd46e09/backoff-2.2.1-py3-none-any.whl.metadata\n  Downloading backoff-2.2.1-py3-none-any.whl.metadata (14 kB)\nRequirement already satisfied: distro>=1.5.0 in /usr/lib/python3/dist-packages (from posthog<4,>3->great_expectations) (1.7.0)\nCollecting annotated-types>=0.6.0 (from pydantic>=1.10.7->great_expectations)\n  Obtaining dependency information for annotated-types>=0.6.0 from https://files.pythonhosted.org/packages/78/b6/6307fbef88d9b5ee7421e68d78a9f162e0da4900bc5f5793f6d3d0e34fb8/annotated_types-0.7.0-py3-none-any.whl.metadata\n  Downloading annotated_types-0.7.0-py3-none-any.whl.metadata (15 kB)\nCollecting pydantic-core==2.33.2 (from pydantic>=1.10.7->great_expectations)\n  Obtaining dependency information for pydantic-core==2.33.2 from https://files.pythonhosted.org/packages/47/bc/cd720e078576bdb8255d5032c5d63ee5c0bf4b7173dd955185a1d658c456/pydantic_core-2.33.2-cp311-cp311-manylinux_2_17_x86_64.manylinux2014_x86_64.whl.metadata\n  Downloading pydantic_core-2.33.2-cp311-cp311-manylinux_2_17_x86_64.manylinux2014_x86_64.whl.metadata (6.8 kB)\nCollecting typing-extensions>=4.1.0 (from great_expectations)\n  Obtaining dependency information for typing-extensions>=4.1.0 from https://files.pythonhosted.org/packages/69/e0/552843e0d356fbb5256d21449fa957fa4eff3bbc135a74a691ee70c7c5da/typing_extensions-4.14.0-py3-none-any.whl.metadata\n  Downloading typing_extensions-4.14.0-py3-none-any.whl.metadata (3.0 kB)\nCollecting typing-inspection>=0.4.0 (from pydantic>=1.10.7->great_expectations)\n  Obtaining dependency information for typing-inspection>=0.4.0 from https://files.pythonhosted.org/packages/17/69/cd203477f944c353c31bade965f880aa1061fd6bf05ded0726ca845b6ff7/typing_inspection-0.4.1-py3-none-any.whl.metadata\n  Downloading typing_inspection-0.4.1-py3-none-any.whl.metadata (2.6 kB)\nRequirement already satisfied: charset-normalizer<4,>=2 in /databricks/python3/lib/python3.11/site-packages (from requests>=2.20->great_expectations) (2.0.4)\nRequirement already satisfied: idna<4,>=2.5 in /databricks/python3/lib/python3.11/site-packages (from requests>=2.20->great_expectations) (3.4)\nRequirement already satisfied: urllib3<3,>=1.21.1 in /databricks/python3/lib/python3.11/site-packages (from requests>=2.20->great_expectations) (1.26.16)\nRequirement already satisfied: certifi>=2017.4.17 in /databricks/python3/lib/python3.11/site-packages (from requests>=2.20->great_expectations) (2023.7.22)\nCollecting ruamel.yaml.clib>=0.2.7 (from ruamel.yaml>=0.16->great_expectations)\n  Obtaining dependency information for ruamel.yaml.clib>=0.2.7 from https://files.pythonhosted.org/packages/68/6e/264c50ce2a31473a9fdbf4fa66ca9b2b17c7455b31ef585462343818bd6c/ruamel.yaml.clib-0.2.12-cp311-cp311-manylinux_2_17_x86_64.manylinux2014_x86_64.whl.metadata\n  Downloading ruamel.yaml.clib-0.2.12-cp311-cp311-manylinux_2_17_x86_64.manylinux2014_x86_64.whl.metadata (2.7 kB)\nRequirement already satisfied: pycparser in /databricks/python3/lib/python3.11/site-packages (from cffi>=1.12->cryptography>=3.2->great_expectations) (2.21)\nDownloading great_expectations-1.4.6-py3-none-any.whl (5.0 MB)\n\u001B[?25l   \u001B[90m━━━━━━━━━━━━━━━━━━━━━━━━━━━━━━━━━━━━━━━━\u001B[0m \u001B[32m0.0/5.0 MB\u001B[0m \u001B[31m?\u001B[0m eta \u001B[36m-:--:--\u001B[0m\n\u001B[2K   \u001B[91m━━━━━━━━━━━━━━━━━━━━━━━━━━━━━━━━━━━━━━━\u001B[0m\u001B[91m╸\u001B[0m \u001B[32m5.0/5.0 MB\u001B[0m \u001B[31m207.1 MB/s\u001B[0m eta \u001B[36m0:00:01\u001B[0m\n\u001B[2K   \u001B[91m━━━━━━━━━━━━━━━━━━━━━━━━━━━━━━━━━━━━━━━\u001B[0m\u001B[91m╸\u001B[0m \u001B[32m5.0/5.0 MB\u001B[0m \u001B[31m207.1 MB/s\u001B[0m eta \u001B[36m0:00:01\u001B[0m\n\u001B[2K   \u001B[91m━━━━━━━━━━━━━━━━━━━━━━━━━━━━━━━━━━━━━━━\u001B[0m\u001B[91m╸\u001B[0m \u001B[32m5.0/5.0 MB\u001B[0m \u001B[31m207.1 MB/s\u001B[0m eta \u001B[36m0:00:01\u001B[0m\n\u001B[2K   \u001B[90m━━━━━━━━━━━━━━━━━━━━━━━━━━━━━━━━━━━━━━━━\u001B[0m \u001B[32m5.0/5.0 MB\u001B[0m \u001B[31m46.9 MB/s\u001B[0m eta \u001B[36m0:00:00\u001B[0m\n\u001B[?25hDownloading altair-4.2.2-py3-none-any.whl (813 kB)\n\u001B[?25l   \u001B[90m━━━━━━━━━━━━━━━━━━━━━━━━━━━━━━━━━━━━━━━━\u001B[0m \u001B[32m0.0/813.6 kB\u001B[0m \u001B[31m?\u001B[0m eta \u001B[36m-:--:--\u001B[0m\n\u001B[2K   \u001B[90m━━━━━━━━━━━━━━━━━━━━━━━━━━━━━━━━━━━━━━━━\u001B[0m \u001B[32m813.6/813.6 kB\u001B[0m \u001B[31m55.6 MB/s\u001B[0m eta \u001B[36m0:00:00\u001B[0m\n\u001B[?25hDownloading jinja2-3.1.6-py3-none-any.whl (134 kB)\n\u001B[?25l   \u001B[90m━━━━━━━━━━━━━━━━━━━━━━━━━━━━━━━━━━━━━━━━\u001B[0m \u001B[32m0.0/134.9 kB\u001B[0m \u001B[31m?\u001B[0m eta \u001B[36m-:--:--\u001B[0m\n\u001B[2K   \u001B[90m━━━━━━━━━━━━━━━━━━━━━━━━━━━━━━━━━━━━━━━━\u001B[0m \u001B[32m134.9/134.9 kB\u001B[0m \u001B[31m17.0 MB/s\u001B[0m eta \u001B[36m0:00:00\u001B[0m\n\u001B[?25hDownloading jsonschema-4.24.0-py3-none-any.whl (88 kB)\n\u001B[?25l   \u001B[90m━━━━━━━━━━━━━━━━━━━━━━━━━━━━━━━━━━━━━━━━\u001B[0m \u001B[32m0.0/88.7 kB\u001B[0m \u001B[31m?\u001B[0m eta \u001B[36m-:--:--\u001B[0m\n\u001B[2K   \u001B[90m━━━━━━━━━━━━━━━━━━━━━━━━━━━━━━━━━━━━━━━━\u001B[0m \u001B[32m88.7/88.7 kB\u001B[0m \u001B[31m10.7 MB/s\u001B[0m eta \u001B[36m0:00:00\u001B[0m\n\u001B[?25hDownloading marshmallow-3.26.1-py3-none-any.whl (50 kB)\n\u001B[?25l   \u001B[90m━━━━━━━━━━━━━━━━━━━━━━━━━━━━━━━━━━━━━━━━\u001B[0m \u001B[32m0.0/50.9 kB\u001B[0m \u001B[31m?\u001B[0m eta \u001B[36m-:--:--\u001B[0m\n\u001B[2K   \u001B[90m━━━━━━━━━━━━━━━━━━━━━━━━━━━━━━━━━━━━━━━━\u001B[0m \u001B[32m50.9/50.9 kB\u001B[0m \u001B[31m3.7 MB/s\u001B[0m eta \u001B[36m0:00:00\u001B[0m\n\u001B[?25hDownloading mistune-3.1.3-py3-none-any.whl (53 kB)\n\u001B[?25l   \u001B[90m━━━━━━━━━━━━━━━━━━━━━━━━━━━━━━━━━━━━━━━━\u001B[0m \u001B[32m0.0/53.4 kB\u001B[0m \u001B[31m?\u001B[0m eta \u001B[36m-:--:--\u001B[0m\n\u001B[2K   \u001B[90m━━━━━━━━━━━━━━━━━━━━━━━━━━━━━━━━━━━━━━━━\u001B[0m \u001B[32m53.4/53.4 kB\u001B[0m \u001B[31m7.0 MB/s\u001B[0m eta \u001B[36m0:00:00\u001B[0m\n\u001B[?25hDownloading posthog-3.25.0-py2.py3-none-any.whl (89 kB)\n\u001B[?25l   \u001B[90m━━━━━━━━━━━━━━━━━━━━━━━━━━━━━━━━━━━━━━━━\u001B[0m \u001B[32m0.0/89.1 kB\u001B[0m \u001B[31m?\u001B[0m eta \u001B[36m-:--:--\u001B[0m\n\u001B[2K   \u001B[90m━━━━━━━━━━━━━━━━━━━━━━━━━━━━━━━━━━━━━━━━\u001B[0m \u001B[32m89.1/89.1 kB\u001B[0m \u001B[31m11.2 MB/s\u001B[0m eta \u001B[36m0:00:00\u001B[0m\n\u001B[?25hDownloading pydantic-2.11.5-py3-none-any.whl (444 kB)\n\u001B[?25l   \u001B[90m━━━━━━━━━━━━━━━━━━━━━━━━━━━━━━━━━━━━━━━━\u001B[0m \u001B[32m0.0/444.2 kB\u001B[0m \u001B[31m?\u001B[0m eta \u001B[36m-:--:--\u001B[0m\n\u001B[2K   \u001B[90m━━━━━━━━━━━━━━━━━━━━━━━━━━━━━━━━━━━━━━━━\u001B[0m \u001B[32m444.2/444.2 kB\u001B[0m \u001B[31m30.5 MB/s\u001B[0m eta \u001B[36m0:00:00\u001B[0m\n\u001B[?25hDownloading pydantic_core-2.33.2-cp311-cp311-manylinux_2_17_x86_64.manylinux2014_x86_64.whl (2.0 MB)\n\u001B[?25l   \u001B[90m━━━━━━━━━━━━━━━━━━━━━━━━━━━━━━━━━━━━━━━━\u001B[0m \u001B[32m0.0/2.0 MB\u001B[0m \u001B[31m?\u001B[0m eta \u001B[36m-:--:--\u001B[0m\n\u001B[2K   \u001B[90m━━━━━━━━━━━━━━━━━━━━━━━━━━━━━━━━━━━━━━━━\u001B[0m \u001B[32m2.0/2.0 MB\u001B[0m \u001B[31m61.6 MB/s\u001B[0m eta \u001B[36m0:00:00\u001B[0m\n\u001B[?25hDownloading ruamel.yaml-0.18.12-py3-none-any.whl (118 kB)\n\u001B[?25l   \u001B[90m━━━━━━━━━━━━━━━━━━━━━━━━━━━━━━━━━━━━━━━━\u001B[0m \u001B[32m0.0/118.4 kB\u001B[0m \u001B[31m?\u001B[0m eta \u001B[36m-:--:--\u001B[0m\n\u001B[2K   \u001B[90m━━━━━━━━━━━━━━━━━━━━━━━━━━━━━━━━━━━━━━━━\u001B[0m \u001B[32m118.4/118.4 kB\u001B[0m \u001B[31m7.8 MB/s\u001B[0m eta \u001B[36m0:00:00\u001B[0m\n\u001B[?25hDownloading tqdm-4.67.1-py3-none-any.whl (78 kB)\n\u001B[?25l   \u001B[90m━━━━━━━━━━━━━━━━━━━━━━━━━━━━━━━━━━━━━━━━\u001B[0m \u001B[32m0.0/78.5 kB\u001B[0m \u001B[31m?\u001B[0m eta \u001B[36m-:--:--\u001B[0m\n\u001B[2K   \u001B[90m━━━━━━━━━━━━━━━━━━━━━━━━━━━━━━━━━━━━━━━━\u001B[0m \u001B[32m78.5/78.5 kB\u001B[0m \u001B[31m6.9 MB/s\u001B[0m eta \u001B[36m0:00:00\u001B[0m\n\u001B[?25hDownloading typing_extensions-4.14.0-py3-none-any.whl (43 kB)\n\u001B[?25l   \u001B[90m━━━━━━━━━━━━━━━━━━━━━━━━━━━━━━━━━━━━━━━━\u001B[0m \u001B[32m0.0/43.8 kB\u001B[0m \u001B[31m?\u001B[0m eta \u001B[36m-:--:--\u001B[0m\n\u001B[2K   \u001B[90m━━━━━━━━━━━━━━━━━━━━━━━━━━━━━━━━━━━━━━━━\u001B[0m \u001B[32m43.8/43.8 kB\u001B[0m \u001B[31m4.8 MB/s\u001B[0m eta \u001B[36m0:00:00\u001B[0m\n\u001B[?25hDownloading tzlocal-5.3.1-py3-none-any.whl (18 kB)\nDownloading annotated_types-0.7.0-py3-none-any.whl (13 kB)\nDownloading attrs-25.3.0-py3-none-any.whl (63 kB)\n\u001B[?25l   \u001B[90m━━━━━━━━━━━━━━━━━━━━━━━━━━━━━━━━━━━━━━━━\u001B[0m \u001B[32m0.0/63.8 kB\u001B[0m \u001B[31m?\u001B[0m eta \u001B[36m-:--:--\u001B[0m\n\u001B[2K   \u001B[90m━━━━━━━━━━━━━━━━━━━━━━━━━━━━━━━━━━━━━━━━\u001B[0m \u001B[32m63.8/63.8 kB\u001B[0m \u001B[31m9.4 MB/s\u001B[0m eta \u001B[36m0:00:00\u001B[0m\n\u001B[?25hDownloading backoff-2.2.1-py3-none-any.whl (15 kB)\nDownloading jsonschema_specifications-2025.4.1-py3-none-any.whl (18 kB)\nDownloading MarkupSafe-3.0.2-cp311-cp311-manylinux_2_17_x86_64.manylinux2014_x86_64.whl (23 kB)\nDownloading monotonic-1.6-py2.py3-none-any.whl (8.2 kB)\nDownloading referencing-0.36.2-py3-none-any.whl (26 kB)\nDownloading rpds_py-0.25.1-cp311-cp311-manylinux_2_17_x86_64.manylinux2014_x86_64.whl (386 kB)\n\u001B[?25l   \u001B[90m━━━━━━━━━━━━━━━━━━━━━━━━━━━━━━━━━━━━━━━━\u001B[0m \u001B[32m0.0/387.0 kB\u001B[0m \u001B[31m?\u001B[0m eta \u001B[36m-:--:--\u001B[0m\n\u001B[2K   \u001B[90m━━━━━━━━━━━━━━━━━━━━━━━━━━━━━━━━━━━━━━━━\u001B[0m \u001B[32m387.0/387.0 kB\u001B[0m \u001B[31m24.3 MB/s\u001B[0m eta \u001B[36m0:00:00\u001B[0m\n\u001B[?25hDownloading ruamel.yaml.clib-0.2.12-cp311-cp311-manylinux_2_17_x86_64.manylinux2014_x86_64.whl (739 kB)\n\u001B[?25l   \u001B[90m━━━━━━━━━━━━━━━━━━━━━━━━━━━━━━━━━━━━━━━━\u001B[0m \u001B[32m0.0/739.1 kB\u001B[0m \u001B[31m?\u001B[0m eta \u001B[36m-:--:--\u001B[0m\n\u001B[2K   \u001B[90m━━━━━━━━━━━━━━━━━━━━━━━━━━━━━━━━━━━━━━━━\u001B[0m \u001B[32m739.1/739.1 kB\u001B[0m \u001B[31m46.4 MB/s\u001B[0m eta \u001B[36m0:00:00\u001B[0m\n\u001B[?25hDownloading typing_inspection-0.4.1-py3-none-any.whl (14 kB)\nDownloading toolz-1.0.0-py3-none-any.whl (56 kB)\n\u001B[?25l   \u001B[90m━━━━━━━━━━━━━━━━━━━━━━━━━━━━━━━━━━━━━━━━\u001B[0m \u001B[32m0.0/56.4 kB\u001B[0m \u001B[31m?\u001B[0m eta \u001B[36m-:--:--\u001B[0m\n\u001B[2K   \u001B[90m━━━━━━━━━━━━━━━━━━━━━━━━━━━━━━━━━━━━━━━━\u001B[0m \u001B[32m56.4/56.4 kB\u001B[0m \u001B[31m4.3 MB/s\u001B[0m eta \u001B[36m0:00:00\u001B[0m\n\u001B[?25hInstalling collected packages: monotonic, tzlocal, typing-extensions, tqdm, toolz, ruamel.yaml.clib, rpds-py, mistune, marshmallow, MarkupSafe, backoff, attrs, annotated-types, typing-inspection, ruamel.yaml, referencing, pydantic-core, posthog, jinja2, pydantic, jsonschema-specifications, jsonschema, altair, great_expectations\n  Attempting uninstall: typing-extensions\n    Found existing installation: typing_extensions 4.10.0\n    Not uninstalling typing-extensions at /databricks/python3/lib/python3.11/site-packages, outside environment /local_disk0/.ephemeral_nfs/envs/pythonEnv-0cf1343e-46c5-4210-af7b-1f95181faf42\n    Can't uninstall 'typing_extensions'. No files were found to uninstall.\n  Attempting uninstall: pydantic\n    Found existing installation: pydantic 1.10.6\n    Not uninstalling pydantic at /databricks/python3/lib/python3.11/site-packages, outside environment /local_disk0/.ephemeral_nfs/envs/pythonEnv-0cf1343e-46c5-4210-af7b-1f95181faf42\n    Can't uninstall 'pydantic'. No files were found to uninstall.\nSuccessfully installed MarkupSafe-3.0.2 altair-4.2.2 annotated-types-0.7.0 attrs-25.3.0 backoff-2.2.1 great_expectations-1.4.6 jinja2-3.1.6 jsonschema-4.24.0 jsonschema-specifications-2025.4.1 marshmallow-3.26.1 mistune-3.1.3 monotonic-1.6 posthog-3.25.0 pydantic-2.11.5 pydantic-core-2.33.2 referencing-0.36.2 rpds-py-0.25.1 ruamel.yaml-0.18.12 ruamel.yaml.clib-0.2.12 toolz-1.0.0 tqdm-4.67.1 typing-extensions-4.14.0 typing-inspection-0.4.1 tzlocal-5.3.1\n\u001B[43mNote: you may need to restart the kernel using %restart_python or dbutils.library.restartPython() to use updated packages.\u001B[0m\n"
     ]
    }
   ],
   "source": [
    "%pip install great_expectations"
   ]
  },
  {
   "cell_type": "code",
   "execution_count": 0,
   "metadata": {
    "application/vnd.databricks.v1+cell": {
     "cellMetadata": {
      "byteLimit": 2048000,
      "rowLimit": 10000
     },
     "inputWidgets": {},
     "nuid": "777f558c-ec12-42c7-8d50-ddab831e42e6",
     "showTitle": false,
     "tableResultSettingsMap": {},
     "title": ""
    }
   },
   "outputs": [
    {
     "output_type": "stream",
     "name": "stdout",
     "output_type": "stream",
     "text": [
      "pytest_results.xml\n"
     ]
    }
   ],
   "source": [
    "%sh\n",
    "ls /dbfs/tmp"
   ]
  },
  {
   "cell_type": "code",
   "execution_count": 0,
   "metadata": {
    "application/vnd.databricks.v1+cell": {
     "cellMetadata": {
      "byteLimit": 2048000,
      "rowLimit": 10000
     },
     "inputWidgets": {},
     "nuid": "4fd0f64d-4ad3-41fb-b832-d74989b5abd7",
     "showTitle": false,
     "tableResultSettingsMap": {},
     "title": ""
    }
   },
   "outputs": [],
   "source": [
    "%sh\n",
    "mkdir /dbfs/tmp/great_expectations"
   ]
  },
  {
   "cell_type": "code",
   "execution_count": 0,
   "metadata": {
    "application/vnd.databricks.v1+cell": {
     "cellMetadata": {
      "byteLimit": 2048000,
      "rowLimit": 10000
     },
     "inputWidgets": {},
     "nuid": "49e5cb10-5027-467b-bd75-644dd2cb731a",
     "showTitle": false,
     "tableResultSettingsMap": {},
     "title": ""
    }
   },
   "outputs": [],
   "source": [
    "%sh\n",
    "cp transactions.csv /dbfs/tmp/great_expectations"
   ]
  },
  {
   "cell_type": "code",
   "execution_count": 0,
   "metadata": {
    "application/vnd.databricks.v1+cell": {
     "cellMetadata": {
      "byteLimit": 2048000,
      "rowLimit": 10000
     },
     "inputWidgets": {},
     "nuid": "5839128d-0fb2-45d1-90a2-0ae57a274ecd",
     "showTitle": false,
     "tableResultSettingsMap": {},
     "title": ""
    }
   },
   "outputs": [
    {
     "output_type": "stream",
     "name": "stdout",
     "output_type": "stream",
     "text": [
      "orders.csv\ntransactions.csv\n"
     ]
    }
   ],
   "source": [
    "%sh\n",
    "ls /dbfs/tmp/great_expectations"
   ]
  },
  {
   "cell_type": "code",
   "execution_count": 0,
   "metadata": {
    "application/vnd.databricks.v1+cell": {
     "cellMetadata": {
      "byteLimit": 2048000,
      "rowLimit": 10000
     },
     "inputWidgets": {},
     "nuid": "19eb7293-27b1-448d-83be-298d7f8a2039",
     "showTitle": false,
     "tableResultSettingsMap": {},
     "title": ""
    }
   },
   "outputs": [
    {
     "output_type": "stream",
     "name": "stderr",
     "output_type": "stream",
     "text": [
      "INFO:great_expectations.data_context.types.base:Created temporary directory '/tmp/tmpht17wm4i' for ephemeral docs site\n"
     ]
    },
    {
     "output_type": "stream",
     "name": "stdout",
     "output_type": "stream",
     "text": [
      "EphemeralDataContext\n"
     ]
    }
   ],
   "source": [
    "import great_expectations as ge\n",
    "\n",
    "context = ge.get_context()\n",
    "print(type(context).__name__)"
   ]
  },
  {
   "cell_type": "code",
   "execution_count": 0,
   "metadata": {
    "application/vnd.databricks.v1+cell": {
     "cellMetadata": {
      "byteLimit": 2048000,
      "rowLimit": 10000
     },
     "inputWidgets": {},
     "nuid": "fb8a0ae6-16f6-40a3-937d-4379818d3aba",
     "showTitle": false,
     "tableResultSettingsMap": {},
     "title": ""
    }
   },
   "outputs": [
    {
     "output_type": "stream",
     "name": "stdout",
     "output_type": "stream",
     "text": [
      "+--------------+-----------+-----------+---------+------------+-------------------+-----------------+----------------------------+-----------------------------+-----------------------------+\n|      order_id|customer_id|  ship_mode|vendor_id|order_status|order_purchase_date|order_approved_at|order_delivered_carrier_date|order_delivered_customer_date|order_estimated_delivery_date|\n+--------------+-----------+-----------+---------+------------+-------------------+-----------------+----------------------------+-----------------------------+-----------------------------+\n|CA-2014-101147|       NULL|First Class|    VEN02|   delivered|   16-12-2017 22:28|       2017-12-16|            12-19-17 8:32 PM|             12-27-17 6:03 PM|                   2018-01-18|\n|CA-2014-101476|   SD-20485|First Class|    VEN04|   delivered|   23-01-2017 13:40|       2017-01-25|            1-26-17 11:26 AM|              1-30-17 8:42 AM|                   2017-02-28|\n|CA-2014-101602|       NULL|First Class|    VEN05|   delivered|   17-05-2017 21:10|       2017-05-17|            5-19-17 10:42 AM|             5-24-17 11:07 AM|                   2017-06-08|\n|CA-2014-101931|   TS-21370|First Class|    VEN03|   delivered|   22-10-2017 14:25|       2017-10-22|            10-23-17 6:50 PM|             10-27-17 9:23 PM|                   2017-11-10|\n|CA-2014-103058|   AG-10270|First Class|    VEN01|   delivered|   30-01-2018 11:03|       2018-01-30|              2-5-18 3:44 PM|              2-21-18 5:53 PM|                   2018-03-13|\n+--------------+-----------+-----------+---------+------------+-------------------+-----------------+----------------------------+-----------------------------+-----------------------------+\nonly showing top 5 rows\n\n"
     ]
    }
   ],
   "source": [
    "orders_df = spark.read.csv(\"/tmp/great_expectations/orders.csv\", header=True, inferSchema=True)\n",
    "orders_df.show(n=5)"
   ]
  },
  {
   "cell_type": "code",
   "execution_count": 0,
   "metadata": {
    "application/vnd.databricks.v1+cell": {
     "cellMetadata": {
      "byteLimit": 2048000,
      "rowLimit": 10000
     },
     "inputWidgets": {},
     "nuid": "5e12ea8e-3362-4ea4-8d9b-21d3c8f1be98",
     "showTitle": false,
     "tableResultSettingsMap": {},
     "title": ""
    }
   },
   "outputs": [],
   "source": [
    "data_source_name = \"sales_department\"\n",
    "data_source = context.data_sources.add_spark(name=data_source_name)\n",
    "\n",
    "data_asset_name = \"raw_orders\"\n",
    "data_asset = data_source.add_dataframe_asset(\n",
    "    name=data_asset_name\n",
    ")\n",
    "\n",
    "batch_definition_name = \"my_batch_definition\"\n",
    "batch_definition = data_asset.add_batch_definition_whole_dataframe(\n",
    "    batch_definition_name\n",
    ")\n",
    "\n",
    "batch_parameters = {\"dataframe\": orders_df}"
   ]
  },
  {
   "cell_type": "code",
   "execution_count": 0,
   "metadata": {
    "application/vnd.databricks.v1+cell": {
     "cellMetadata": {
      "byteLimit": 2048000,
      "rowLimit": 10000
     },
     "inputWidgets": {},
     "nuid": "3e42b839-c186-4cc8-b26e-b7e47ecc8da1",
     "showTitle": false,
     "tableResultSettingsMap": {},
     "title": ""
    }
   },
   "outputs": [
    {
     "output_type": "stream",
     "name": "stderr",
     "output_type": "stream",
     "text": [
      "<>:15: DeprecationWarning: invalid escape sequence '\\d'\n<>:15: DeprecationWarning: invalid escape sequence '\\d'\n/root/.ipykernel/847/command-7554712221042358-2513692394:15: DeprecationWarning: invalid escape sequence '\\d'\n  regex=\"^[A-Z]{2}-\\d{4}-\\d{6}$\"  # Format: CA-2014-108189\n"
     ]
    }
   ],
   "source": [
    "no_duplicate_orders = ge.expectations.ExpectColumnValuesToBeUnique(\n",
    "    column=\"order_id\"\n",
    ")\n",
    "\n",
    "no_null_order_id = ge.expectations.ExpectColumnValuesToNotBeNull(\n",
    "    column=\"order_id\"\n",
    ")\n",
    "\n",
    "no_null_customer_id = ge.expectations.ExpectColumnValuesToNotBeNull(\n",
    "    column=\"customer_id\"\n",
    ")\n",
    "\n",
    "order_id_format = ge.expectations.ExpectColumnValuesToMatchRegex(\n",
    "    column=\"order_id\",\n",
    "    regex=\"^[A-Z]{2}-\\d{4}-\\d{6}$\"  # Format: CA-2014-108189\n",
    ")\n",
    "\n",
    "date_logic_validation = ge.expectations.ExpectColumnPairValuesAToBeGreaterThanB(\n",
    "    column_A=\"order_delivered_customer_date\",\n",
    "    column_B=\"order_purchase_date\",\n",
    "    or_equal=True,\n",
    "    ignore_row_if=\"both_values_are_missing\"\n",
    ")\n",
    "\n",
    "valid_status = ge.expectations.ExpectColumnValuesToBeInSet(\n",
    "    column=\"order_status\",\n",
    "    value_set=[\"pending\", \"confirmed\", \"shipped\", \"delivered\", \"cancelled\"]\n",
    ")"
   ]
  },
  {
   "cell_type": "code",
   "execution_count": 0,
   "metadata": {
    "application/vnd.databricks.v1+cell": {
     "cellMetadata": {
      "byteLimit": 2048000,
      "rowLimit": 10000
     },
     "inputWidgets": {},
     "nuid": "c282d316-cb18-41ec-86b5-bfc49f0036df",
     "showTitle": false,
     "tableResultSettingsMap": {},
     "title": ""
    }
   },
   "outputs": [
    {
     "output_type": "stream",
     "name": "stderr",
     "output_type": "stream",
     "text": [
      "/databricks/python/lib/python3.11/site-packages/ipywidgets/widgets/widget.py:503: DeprecationWarning: The `ipykernel.comm.Comm` class has been deprecated. Please use the `comm` module instead.For creating comms, use the function `from comm import create_comm`.\n  self.comm = Comm(**args)\n"
     ]
    },
    {
     "output_type": "display_data",
     "data": {
      "application/vnd.jupyter.widget-view+json": {
       "model_id": "56069318cbd34d6ca816462c92bf802f",
       "version_major": 2,
       "version_minor": 0
      },
      "text/plain": [
       "Calculating Metrics:   0%|          | 0/12 [00:00<?, ?it/s]"
      ]
     },
     "metadata": {},
     "output_type": "display_data"
    },
    {
     "output_type": "stream",
     "name": "stdout",
     "output_type": "stream",
     "text": [
      "{\n  \"success\": false,\n  \"expectation_config\": {\n    \"type\": \"expect_column_values_to_be_unique\",\n    \"kwargs\": {\n      \"batch_id\": \"sales_department-raw_orders\",\n      \"column\": \"order_id\"\n    },\n    \"meta\": {}\n  },\n  \"result\": {\n    \"element_count\": 5015,\n    \"unexpected_count\": 9,\n    \"unexpected_percent\": 0.1794616151545364,\n    \"partial_unexpected_list\": [\n      \"CA-2014-102652\",\n      \"CA-2014-102652\",\n      \"CA-2014-102652\",\n      \"CA-2014-103219\",\n      \"CA-2014-103219\",\n      \"CA-2014-103219\",\n      \"CA-2014-103527\",\n      \"CA-2014-103527\",\n      \"CA-2014-103527\"\n    ],\n    \"missing_count\": 0,\n    \"missing_percent\": 0.0,\n    \"unexpected_percent_total\": 0.1794616151545364,\n    \"unexpected_percent_nonmissing\": 0.1794616151545364,\n    \"partial_unexpected_counts\": [\n      {\n        \"value\": \"CA-2014-102652\",\n        \"count\": 3\n      },\n      {\n        \"value\": \"CA-2014-103219\",\n        \"count\": 3\n      },\n      {\n        \"value\": \"CA-2014-103527\",\n        \"count\": 3\n      }\n    ]\n  },\n  \"meta\": {},\n  \"exception_info\": {\n    \"raised_exception\": false,\n    \"exception_traceback\": null,\n    \"exception_message\": null\n  }\n}\n"
     ]
    }
   ],
   "source": [
    "# Validating the no_duplicate order_id expectations\n",
    "batch = batch_definition.get_batch(batch_parameters=batch_parameters)\n",
    "validation_results = batch.validate(no_duplicate_orders)\n",
    "print(validation_results)"
   ]
  },
  {
   "cell_type": "code",
   "execution_count": 0,
   "metadata": {
    "application/vnd.databricks.v1+cell": {
     "cellMetadata": {
      "byteLimit": 2048000,
      "rowLimit": 10000
     },
     "inputWidgets": {},
     "nuid": "011467eb-9382-40ff-8afd-a548a15b5e4b",
     "showTitle": false,
     "tableResultSettingsMap": {},
     "title": ""
    }
   },
   "outputs": [
    {
     "output_type": "stream",
     "name": "stderr",
     "output_type": "stream",
     "text": [
      "/databricks/python/lib/python3.11/site-packages/ipywidgets/widgets/widget.py:503: DeprecationWarning: The `ipykernel.comm.Comm` class has been deprecated. Please use the `comm` module instead.For creating comms, use the function `from comm import create_comm`.\n  self.comm = Comm(**args)\n"
     ]
    },
    {
     "output_type": "display_data",
     "data": {
      "application/vnd.jupyter.widget-view+json": {
       "model_id": "7f4939d9a87741dfa6eaf19ba42644c1",
       "version_major": 2,
       "version_minor": 0
      },
      "text/plain": [
       "Calculating Metrics:   0%|          | 0/12 [00:00<?, ?it/s]"
      ]
     },
     "metadata": {},
     "output_type": "display_data"
    },
    {
     "output_type": "display_data",
     "data": {
      "application/vnd.jupyter.widget-view+json": {
       "model_id": "155de0e83be841e689f5b9122e138484",
       "version_major": 2,
       "version_minor": 0
      },
      "text/plain": [
       "Calculating Metrics:   0%|          | 0/10 [00:00<?, ?it/s]"
      ]
     },
     "metadata": {},
     "output_type": "display_data"
    },
    {
     "output_type": "display_data",
     "data": {
      "application/vnd.jupyter.widget-view+json": {
       "model_id": "5d123a407f974dd395ceab51fee858e4",
       "version_major": 2,
       "version_minor": 0
      },
      "text/plain": [
       "Calculating Metrics:   0%|          | 0/10 [00:00<?, ?it/s]"
      ]
     },
     "metadata": {},
     "output_type": "display_data"
    },
    {
     "output_type": "display_data",
     "data": {
      "application/vnd.jupyter.widget-view+json": {
       "model_id": "4b0e77be26bb4e4c99fdb9792071b992",
       "version_major": 2,
       "version_minor": 0
      },
      "text/plain": [
       "Calculating Metrics:   0%|          | 0/13 [00:00<?, ?it/s]"
      ]
     },
     "metadata": {},
     "output_type": "display_data"
    },
    {
     "output_type": "display_data",
     "data": {
      "application/vnd.jupyter.widget-view+json": {
       "model_id": "991c719e569a498485a2ebb690ae1586",
       "version_major": 2,
       "version_minor": 0
      },
      "text/plain": [
       "Calculating Metrics:   0%|          | 0/10 [00:00<?, ?it/s]"
      ]
     },
     "metadata": {},
     "output_type": "display_data"
    },
    {
     "output_type": "display_data",
     "data": {
      "application/vnd.jupyter.widget-view+json": {
       "model_id": "c34f7ce1b15d4f7f85eb787c8d783f37",
       "version_major": 2,
       "version_minor": 0
      },
      "text/plain": [
       "Calculating Metrics:   0%|          | 0/13 [00:00<?, ?it/s]"
      ]
     },
     "metadata": {},
     "output_type": "display_data"
    }
   ],
   "source": [
    "report = []\n",
    "expectations = [\n",
    "    no_duplicate_orders,\n",
    "    no_null_order_id,\n",
    "    no_null_customer_id,\n",
    "    order_id_format,\n",
    "    date_logic_validation,\n",
    "    valid_status]\n",
    "\n",
    "for expectation in expectations:\n",
    "    batch = batch_definition.get_batch(batch_parameters=batch_parameters)\n",
    "    validation_results = batch.validate(expectation)\n",
    "    report.append(validation_results)"
   ]
  },
  {
   "cell_type": "code",
   "execution_count": 0,
   "metadata": {
    "application/vnd.databricks.v1+cell": {
     "cellMetadata": {
      "byteLimit": 2048000,
      "rowLimit": 10000
     },
     "inputWidgets": {},
     "nuid": "bf50e208-373d-49f7-9e19-57f260481c9e",
     "showTitle": false,
     "tableResultSettingsMap": {},
     "title": ""
    }
   },
   "outputs": [
    {
     "output_type": "stream",
     "name": "stdout",
     "output_type": "stream",
     "text": [
      "[{\n  \"success\": false,\n  \"expectation_config\": {\n    \"type\": \"expect_column_values_to_be_unique\",\n    \"kwargs\": {\n      \"batch_id\": \"sales_department-raw_orders\",\n      \"column\": \"order_id\"\n    },\n    \"meta\": {}\n  },\n  \"result\": {\n    \"element_count\": 5015,\n    \"unexpected_count\": 9,\n    \"unexpected_percent\": 0.1794616151545364,\n    \"partial_unexpected_list\": [\n      \"CA-2014-102652\",\n      \"CA-2014-102652\",\n      \"CA-2014-102652\",\n      \"CA-2014-103219\",\n      \"CA-2014-103219\",\n      \"CA-2014-103219\",\n      \"CA-2014-103527\",\n      \"CA-2014-103527\",\n      \"CA-2014-103527\"\n    ],\n    \"missing_count\": 0,\n    \"missing_percent\": 0.0,\n    \"unexpected_percent_total\": 0.1794616151545364,\n    \"unexpected_percent_nonmissing\": 0.1794616151545364,\n    \"partial_unexpected_counts\": [\n      {\n        \"value\": \"CA-2014-102652\",\n        \"count\": 3\n      },\n      {\n        \"value\": \"CA-2014-103219\",\n        \"count\": 3\n      },\n      {\n        \"value\": \"CA-2014-103527\",\n        \"count\": 3\n      }\n    ]\n  },\n  \"meta\": {},\n  \"exception_info\": {\n    \"raised_exception\": false,\n    \"exception_traceback\": null,\n    \"exception_message\": null\n  }\n}, {\n  \"success\": true,\n  \"expectation_config\": {\n    \"type\": \"expect_column_values_to_not_be_null\",\n    \"kwargs\": {\n      \"batch_id\": \"sales_department-raw_orders\",\n      \"column\": \"order_id\"\n    },\n    \"meta\": {}\n  },\n  \"result\": {\n    \"element_count\": 5015,\n    \"unexpected_count\": 0,\n    \"unexpected_percent\": 0.0,\n    \"partial_unexpected_list\": [],\n    \"partial_unexpected_counts\": []\n  },\n  \"meta\": {},\n  \"exception_info\": {\n    \"raised_exception\": false,\n    \"exception_traceback\": null,\n    \"exception_message\": null\n  }\n}, {\n  \"success\": false,\n  \"expectation_config\": {\n    \"type\": \"expect_column_values_to_not_be_null\",\n    \"kwargs\": {\n      \"batch_id\": \"sales_department-raw_orders\",\n      \"column\": \"customer_id\"\n    },\n    \"meta\": {}\n  },\n  \"result\": {\n    \"element_count\": 5015,\n    \"unexpected_count\": 8,\n    \"unexpected_percent\": 0.15952143569292124,\n    \"partial_unexpected_list\": [\n      null,\n      null,\n      null,\n      null,\n      null,\n      null,\n      null,\n      null\n    ],\n    \"partial_unexpected_counts\": [\n      {\n        \"value\": null,\n        \"count\": 8\n      }\n    ]\n  },\n  \"meta\": {},\n  \"exception_info\": {\n    \"raised_exception\": false,\n    \"exception_traceback\": null,\n    \"exception_message\": null\n  }\n}, {\n  \"success\": true,\n  \"expectation_config\": {\n    \"type\": \"expect_column_values_to_match_regex\",\n    \"kwargs\": {\n      \"batch_id\": \"sales_department-raw_orders\",\n      \"column\": \"order_id\",\n      \"regex\": \"^[A-Z]{2}-\\\\d{4}-\\\\d{6}$\"\n    },\n    \"meta\": {}\n  },\n  \"result\": {\n    \"element_count\": 5015,\n    \"unexpected_count\": 0,\n    \"unexpected_percent\": 0.0,\n    \"partial_unexpected_list\": [],\n    \"missing_count\": 0,\n    \"missing_percent\": 0.0,\n    \"unexpected_percent_total\": 0.0,\n    \"unexpected_percent_nonmissing\": 0.0,\n    \"partial_unexpected_counts\": []\n  },\n  \"meta\": {},\n  \"exception_info\": {\n    \"raised_exception\": false,\n    \"exception_traceback\": null,\n    \"exception_message\": null\n  }\n}, {\n  \"success\": false,\n  \"expectation_config\": {\n    \"type\": \"expect_column_pair_values_a_to_be_greater_than_b\",\n    \"kwargs\": {\n      \"batch_id\": \"sales_department-raw_orders\",\n      \"column_A\": \"order_delivered_customer_date\",\n      \"column_B\": \"order_purchase_date\",\n      \"or_equal\": true\n    },\n    \"meta\": {}\n  },\n  \"result\": {\n    \"element_count\": 5015,\n    \"unexpected_count\": 945,\n    \"unexpected_percent\": 18.843469591226324,\n    \"partial_unexpected_list\": [\n      [\n        \"12-27-17 6:03 PM\",\n        \"16-12-2017 22:28\"\n      ],\n      [\n        \"1-30-17 8:42 AM\",\n        \"23-01-2017 13:40\"\n      ],\n      [\n        \"10-27-17 9:23 PM\",\n        \"22-10-2017 14:25\"\n      ],\n      [\n        \"2-21-18 5:53 PM\",\n        \"30-01-2018 11:03\"\n      ],\n      [\n        \"12-11-17 12:48 PM\",\n        \"24-11-2017 21:13\"\n      ],\n      [\n        \"11-28-17 7:47 PM\",\n        \"25-11-2017 16:41\"\n      ],\n      [\n        \"1-2-18 3:39 PM\",\n        \"20-12-2017 11:46\"\n      ],\n      [\n        \"2-7-18 7:52 PM\",\n        \"29-01-2018 20:11\"\n      ],\n      [\n        \"12-4-17 7:15 PM\",\n        \"24-11-2017 18:08\"\n      ],\n      [\n        \"12-28-17 6:49 PM\",\n        \"21-12-2017 20:16\"\n      ],\n      [\n        \"12-1-17 11:38 PM\",\n        \"19-11-2017 16:20\"\n      ],\n      [\n        \"11-7-17 7:34 PM\",\n        \"26-10-2017 12:50\"\n      ],\n      [\n        \"10-23-17 10:04 PM\",\n        \"15-10-2017 17:12\"\n      ],\n      [\n        \"1-30-18 3:38 PM\",\n        \"24-01-2018 09:08\"\n      ],\n      [\n        \"10-3-17 7:58 PM\",\n        \"20-09-2017 21:08\"\n      ],\n      [\n        \"2-9-18 9:08 PM\",\n        \"25-01-2018 15:09\"\n      ],\n      [\n        \"2-1-18 10:05 PM\",\n        \"29-01-2018 20:19\"\n      ],\n      [\n        \"12-11-17 5:33 PM\",\n        \"27-11-2017 00:58\"\n      ],\n      [\n        \"2-19-18 7:22 PM\",\n        \"31-01-2018 22:50\"\n      ],\n      [\n        \"1-24-18 2:52 PM\",\n        \"15-01-2018 18:08\"\n      ]\n    ],\n    \"missing_count\": 0,\n    \"missing_percent\": 0.0,\n    \"unexpected_percent_total\": 18.843469591226324,\n    \"unexpected_percent_nonmissing\": 18.843469591226324,\n    \"partial_unexpected_counts\": [\n      {\n        \"value\": [\n          \"1-2-18 3:39 PM\",\n          \"20-12-2017 11:46\"\n        ],\n        \"count\": 1\n      },\n      {\n        \"value\": [\n          \"1-24-18 2:52 PM\",\n          \"15-01-2018 18:08\"\n        ],\n        \"count\": 1\n      },\n      {\n        \"value\": [\n          \"1-30-17 8:42 AM\",\n          \"23-01-2017 13:40\"\n        ],\n        \"count\": 1\n      },\n      {\n        \"value\": [\n          \"1-30-18 3:38 PM\",\n          \"24-01-2018 09:08\"\n        ],\n        \"count\": 1\n      },\n      {\n        \"value\": [\n          \"10-23-17 10:04 PM\",\n          \"15-10-2017 17:12\"\n        ],\n        \"count\": 1\n      },\n      {\n        \"value\": [\n          \"10-27-17 9:23 PM\",\n          \"22-10-2017 14:25\"\n        ],\n        \"count\": 1\n      },\n      {\n        \"value\": [\n          \"10-3-17 7:58 PM\",\n          \"20-09-2017 21:08\"\n        ],\n        \"count\": 1\n      },\n      {\n        \"value\": [\n          \"11-28-17 7:47 PM\",\n          \"25-11-2017 16:41\"\n        ],\n        \"count\": 1\n      },\n      {\n        \"value\": [\n          \"11-7-17 7:34 PM\",\n          \"26-10-2017 12:50\"\n        ],\n        \"count\": 1\n      },\n      {\n        \"value\": [\n          \"12-1-17 11:38 PM\",\n          \"19-11-2017 16:20\"\n        ],\n        \"count\": 1\n      },\n      {\n        \"value\": [\n          \"12-11-17 12:48 PM\",\n          \"24-11-2017 21:13\"\n        ],\n        \"count\": 1\n      },\n      {\n        \"value\": [\n          \"12-11-17 5:33 PM\",\n          \"27-11-2017 00:58\"\n        ],\n        \"count\": 1\n      },\n      {\n        \"value\": [\n          \"12-27-17 6:03 PM\",\n          \"16-12-2017 22:28\"\n        ],\n        \"count\": 1\n      },\n      {\n        \"value\": [\n          \"12-28-17 6:49 PM\",\n          \"21-12-2017 20:16\"\n        ],\n        \"count\": 1\n      },\n      {\n        \"value\": [\n          \"12-4-17 7:15 PM\",\n          \"24-11-2017 18:08\"\n        ],\n        \"count\": 1\n      },\n      {\n        \"value\": [\n          \"2-1-18 10:05 PM\",\n          \"29-01-2018 20:19\"\n        ],\n        \"count\": 1\n      },\n      {\n        \"value\": [\n          \"2-19-18 7:22 PM\",\n          \"31-01-2018 22:50\"\n        ],\n        \"count\": 1\n      },\n      {\n        \"value\": [\n          \"2-21-18 5:53 PM\",\n          \"30-01-2018 11:03\"\n        ],\n        \"count\": 1\n      },\n      {\n        \"value\": [\n          \"2-7-18 7:52 PM\",\n          \"29-01-2018 20:11\"\n        ],\n        \"count\": 1\n      },\n      {\n        \"value\": [\n          \"2-9-18 9:08 PM\",\n          \"25-01-2018 15:09\"\n        ],\n        \"count\": 1\n      }\n    ]\n  },\n  \"meta\": {},\n  \"exception_info\": {\n    \"raised_exception\": false,\n    \"exception_traceback\": null,\n    \"exception_message\": null\n  }\n}, {\n  \"success\": false,\n  \"expectation_config\": {\n    \"type\": \"expect_column_values_to_be_in_set\",\n    \"kwargs\": {\n      \"batch_id\": \"sales_department-raw_orders\",\n      \"column\": \"order_status\",\n      \"value_set\": [\n        \"pending\",\n        \"confirmed\",\n        \"shipped\",\n        \"delivered\",\n        \"cancelled\"\n      ]\n    },\n    \"meta\": {}\n  },\n  \"result\": {\n    \"element_count\": 5015,\n    \"unexpected_count\": 85,\n    \"unexpected_percent\": 1.694915254237288,\n    \"partial_unexpected_list\": [\n      \"invoiced\",\n      \"unavailable\",\n      \"canceled\",\n      \"processing\",\n      \"unavailable\",\n      \"invoiced\",\n      \"unavailable\",\n      \"processing\",\n      \"invoiced\",\n      \"canceled\",\n      \"canceled\",\n      \"unavailable\",\n      \"canceled\",\n      \"processing\",\n      \"invoiced\",\n      \"canceled\",\n      \"invoiced\",\n      \"unavailable\",\n      \"canceled\",\n      \"canceled\"\n    ],\n    \"missing_count\": 0,\n    \"missing_percent\": 0.0,\n    \"unexpected_percent_total\": 1.694915254237288,\n    \"unexpected_percent_nonmissing\": 1.694915254237288,\n    \"partial_unexpected_counts\": [\n      {\n        \"value\": \"canceled\",\n        \"count\": 7\n      },\n      {\n        \"value\": \"invoiced\",\n        \"count\": 5\n      },\n      {\n        \"value\": \"unavailable\",\n        \"count\": 5\n      },\n      {\n        \"value\": \"processing\",\n        \"count\": 3\n      }\n    ]\n  },\n  \"meta\": {},\n  \"exception_info\": {\n    \"raised_exception\": false,\n    \"exception_traceback\": null,\n    \"exception_message\": null\n  }\n}]\n"
     ]
    }
   ],
   "source": [
    "print(report)"
   ]
  }
 ],
 "metadata": {
  "application/vnd.databricks.v1+notebook": {
   "computePreferences": null,
   "dashboards": [],
   "environmentMetadata": {
    "base_environment": "",
    "environment_version": "2"
   },
   "inputWidgetPreferences": null,
   "language": "python",
   "notebookMetadata": {
    "mostRecentlyExecutedCommandWithImplicitDF": {
     "commandId": 7554712221042352,
     "dataframes": [
      "_sqldf"
     ]
    },
    "pythonIndentUnit": 4
   },
   "notebookName": "Great Expectations Framework",
   "widgets": {}
  },
  "language_info": {
   "name": "python"
  }
 },
 "nbformat": 4,
 "nbformat_minor": 0
}